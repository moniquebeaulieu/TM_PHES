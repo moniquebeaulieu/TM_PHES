{
 "cells": [
  {
   "cell_type": "markdown",
   "metadata": {},
   "source": [
    "# Gridded Data EMDA\n",
    "## Ensemble of Meterological Dataset for North America \n",
    "### using probabilistc methods to estimate the uncertainty in spatial fields\n",
    "https://essd.copernicus.org/articles/13/3337/2021/"
   ]
  },
  {
   "cell_type": "markdown",
   "metadata": {},
   "source": [
    "1.\t**Where is the observed data from?** *From weather stations on the ground, using statistical methods to fill in (spatially) daily data as a grid.* https://uofc-my.sharepoint.com/personal/heba_abdelmoaty_ucalgary_ca/_layouts/15/onedrive.aspx?id=%2Fpersonal%2Fheba%5Fabdelmoaty%5Fucalgary%5Fca%2FDocuments%2FUnfinished%5Fwork%2FCapstone%2FData&ga=1\n",
    "2.\t**What are the X and Y?**  *They are the grids overlaying the catchment. The X and Y of our project is in  245.25 and 49.55 respectively (so only need to use the one row).*\n",
    "3.\t**What are the 4 scenarios?** *Each scenario represents a predicted socio-economic status and the radiative energy that the globe will reach by the end of the century (4 socio-economic scenarios paired with radiative force we are producing (KJ/m2)).  **SSP1-2.6** = assumes reduced emissions, **SSP2-4.5** = assumes the same trend of emissions as historical, **SSP3-7.0** = medium to high emissions scenario, **SSP5-8.5**=optimal for economic development but with high emissions.*\n",
    "4.\t**What is the Trange?** *Trange = | Tmax – Tmin |    (probably wont need this)*\n"
   ]
  },
  {
   "cell_type": "markdown",
   "metadata": {},
   "source": [
    "![Catchment Grid Location](CatchmentGrid_location_basemap.jpg)\n"
   ]
  },
  {
   "cell_type": "markdown",
   "metadata": {},
   "source": [
    "# Install Libraries"
   ]
  },
  {
   "cell_type": "code",
   "execution_count": 1,
   "metadata": {},
   "outputs": [],
   "source": [
    "import numpy as np\n",
    "import pandas as pd\n",
    "import seaborn as sns\n",
    "import matplotlib.pyplot as plt\n",
    "from datetime import datetime, timedelta\n",
    "from scipy.stats import linregress\n",
    "from itertools import combinations\n",
    "import math\n",
    "from matplotlib.dates import MonthLocator, DateFormatter\n",
    "import requests\n",
    "from io import StringIO\n",
    "import os"
   ]
  },
  {
   "cell_type": "markdown",
   "metadata": {},
   "source": [
    "# Hard Coded Variables"
   ]
  },
  {
   "cell_type": "code",
   "execution_count": 2,
   "metadata": {},
   "outputs": [],
   "source": [
    "observed_trange = \"C:/Users/14037/OneDrive - University of Calgary/Documents/ENCI_570/observed/obs_trange_final.csv\""
   ]
  },
  {
   "cell_type": "markdown",
   "metadata": {},
   "source": [
    "## S1 Trange"
   ]
  },
  {
   "cell_type": "code",
   "execution_count": 3,
   "metadata": {},
   "outputs": [],
   "source": [
    "s1_1_trange = \"C:/Users/14037/OneDrive - University of Calgary/Documents/ENCI_570/s1/reg_tas_day_ACCESS-CM2_ssp126_r2i1p1f1_gn_20150101-21001231_cannc_SPQM_07.nc.csv\"\n",
    "s1_2_trange = \"C:/Users/14037/OneDrive - University of Calgary/Documents/ENCI_570/s1/reg_tas_day_BCC-CSM2-MR_ssp126_r1i1p1f1_gn_20150101-21001231_cannc_SPQM_07.nc.csv\"\n",
    "s1_3_trange = \"C:/Users/14037/OneDrive - University of Calgary/Documents/ENCI_570/s1/reg_tas_day_CanESM5_ssp126_r1i1p1f1_gn_20150101-21001231_cannc_SPQM_07.nc.csv\"\n",
    "s1_4_trange = \"C:/Users/14037/OneDrive - University of Calgary/Documents/ENCI_570/s1/reg_tas_day_CanESM5_ssp126_r2i1p1f1_gn_20150101-21001231_cannc_SPQM_07.nc.csv\"\n",
    "s1_5_trange = \"C:/Users/14037/OneDrive - University of Calgary/Documents/ENCI_570/s1/reg_tas_day_CESM2_ssp126_r4i1p1f1_gn_20150101-21010101_cannc_SPQM_07.nc.csv\"\n",
    "s1_6_trange = \"C:/Users/14037/OneDrive - University of Calgary/Documents/ENCI_570/s1/reg_tas_day_CESM2_ssp126_r10i1p1f1_gn_20150101-21010101_cannc_SPQM_07.nc.csv\"\n",
    "s1_7_trange = \"C:/Users/14037/OneDrive - University of Calgary/Documents/ENCI_570/s1/reg_tas_day_CMCC-ESM2_ssp126_r1i1p1f1_gn_20150101-21001231_cannc_SPQM_07.nc.csv\"\n",
    "s1_8_trange = \"C:/Users/14037/OneDrive - University of Calgary/Documents/ENCI_570/s1/reg_tas_day_CNRM-CM6-1_ssp126_r1i1p1f2_gr_20150101-21001231_cannc_SPQM_07.nc.csv\"\n",
    "s1_9_trange = \"C:/Users/14037/OneDrive - University of Calgary/Documents/ENCI_570/s1/reg_tas_day_CNRM-CM6-1-HR_ssp126_r1i1p1f2_gr_20150101-21001231_cannc_SPQM_07.nc.csv\"\n",
    "s1_10_trange = \"C:/Users/14037/OneDrive - University of Calgary/Documents/ENCI_570/s1/reg_tas_day_CNRM-ESM2-1_ssp126_r1i1p1f2_gr_20150101-21001231_cannc_SPQM_07.nc.csv\"\n",
    "s1_11_trange = \"C:/Users/14037/OneDrive - University of Calgary/Documents/ENCI_570/s1/reg_tas_day_EC-Earth3_ssp126_r1i1p1f1_gr_20150101-21001231_cannc_SPQM_07.nc.csv\"\n",
    "s1_12_trange = \"C:/Users/14037/OneDrive - University of Calgary/Documents/ENCI_570/s1/reg_tas_day_EC-Earth3_ssp126_r4i1p1f1_gr_20150101-21001231_cannc_SPQM_07.nc.csv\"\n",
    "s1_13_trange = \"C:/Users/14037/OneDrive - University of Calgary/Documents/ENCI_570/s1/reg_tas_day_EC-Earth3-Veg_ssp126_r1i1p1f1_gr_20150101-21001231_cannc_SPQM_07.nc.csv\"\n",
    "s1_14_trange = \"C:/Users/14037/OneDrive - University of Calgary/Documents/ENCI_570/s1/reg_tas_day_EC-Earth3-Veg_ssp126_r2i1p1f1_gr_20150101-21001231_cannc_SPQM_07.nc.csv\"\n",
    "s1_15_trange = \"C:/Users/14037/OneDrive - University of Calgary/Documents/ENCI_570/s1/reg_tas_day_FGOALS-g3_ssp126_r1i1p1f1_gn_20150101-21001231_cannc_SPQM_07.nc.csv\"\n",
    "s1_16_trange = \"C:/Users/14037/OneDrive - University of Calgary/Documents/ENCI_570/s1/reg_tas_day_FGOALS-g3_ssp126_r3i1p1f1_gn_20150101-21001231_cannc_SPQM_07.nc.csv\"\n",
    "s1_17_trange = \"C:/Users/14037/OneDrive - University of Calgary/Documents/ENCI_570/s1/reg_tas_day_GFDL-ESM4_ssp126_r1i1p1f1_gr1_20150101-21001231_cannc_SPQM_07.nc.csv\"\n",
    "s1_18_trange = \"C:/Users/14037/OneDrive - University of Calgary/Documents/ENCI_570/s1/reg_tas_day_HadGEM3-GC31-LL_ssp126_r1i1p1f3_gn_20150101-21001230_cannc_SPQM_07.nc.csv\"\n",
    "s1_19_trange = \"C:/Users/14037/OneDrive - University of Calgary/Documents/ENCI_570/s1/reg_tas_day_HadGEM3-GC31-MM_ssp126_r1i1p1f3_gn_20150101-21001230_cannc_SPQM_07.nc.csv\"\n",
    "s1_20_trange = \"C:/Users/14037/OneDrive - University of Calgary/Documents/ENCI_570/s1/reg_tas_day_INM-CM4-8_ssp126_r1i1p1f1_gr1_20150101-21001231_cannc_SPQM_07.nc.csv\"\n",
    "s1_21_trange = \"C:/Users/14037/OneDrive - University of Calgary/Documents/ENCI_570/s1/reg_tas_day_INM-CM5-0_ssp126_r1i1p1f1_gr1_20150101-21001231_cannc_SPQM_07.nc.csv\"\n",
    "s1_22_trange = \"C:/Users/14037/OneDrive - University of Calgary/Documents/ENCI_570/s1/reg_tas_day_IPSL-CM6A-LR_ssp126_r2i1p1f1_gr_20150101-21001231_cannc_SPQM_07.nc.csv\"\n",
    "s1_23_trange = \"C:/Users/14037/OneDrive - University of Calgary/Documents/ENCI_570/s1/reg_tas_day_KACE-1-0-G_ssp126_r1i1p1f1_gr_20150101-21001230_cannc_SPQM_07.nc.csv\"\n",
    "s1_24_trange = \"C:/Users/14037/OneDrive - University of Calgary/Documents/ENCI_570/s1/reg_tas_day_KACE-1-0-G_ssp126_r2i1p1f1_gr_20150101-21001230_cannc_SPQM_07.nc.csv\"\n",
    "s1_25_trange = \"C:/Users/14037/OneDrive - University of Calgary/Documents/ENCI_570/s1/reg_tas_day_MIROC6_ssp126_r1i1p1f1_gn_20150101-21001231_cannc_SPQM_07.nc.csv\"\n",
    "s1_26_trange = \"C:/Users/14037/OneDrive - University of Calgary/Documents/ENCI_570/s1/reg_tas_day_MIROC6_ssp126_r2i1p1f1_gn_20150101-21001231_cannc_SPQM_07.nc.csv\"\n",
    "s1_27_trange = \"C:/Users/14037/OneDrive - University of Calgary/Documents/ENCI_570/s1/reg_tas_day_MPI-ESM1-2-HR_ssp126_r1i1p1f1_gn_20150101-21001231_cannc_SPQM_07.nc.csv\"\n",
    "s1_28_trange = \"C:/Users/14037/OneDrive - University of Calgary/Documents/ENCI_570/s1/reg_tas_day_MPI-ESM1-2-HR_ssp126_r2i1p1f1_gn_20150101-21001231_cannc_SPQM_07.nc.csv\"\n",
    "s1_29_trange = \"C:/Users/14037/OneDrive - University of Calgary/Documents/ENCI_570/s1/reg_tas_day_MPI-ESM1-2-LR_ssp126_r1i1p1f1_gn_20150101-21001231_cannc_SPQM_07.nc.csv\"\n",
    "s1_30_trange = \"C:/Users/14037/OneDrive - University of Calgary/Documents/ENCI_570/s1/reg_tas_day_MPI-ESM1-2-LR_ssp126_r2i1p1f1_gn_20150101-21001231_cannc_SPQM_07.nc.csv\"\n",
    "s1_31_trange = \"C:/Users/14037/OneDrive - University of Calgary/Documents/ENCI_570/s1/reg_tas_day_NESM3_ssp126_r1i1p1f1_gn_20150101-21001231_cannc_SPQM_07.nc.csv\"\n",
    "s1_32_trange = \"C:/Users/14037/OneDrive - University of Calgary/Documents/ENCI_570/s1/reg_tas_day_NESM3_ssp126_r2i1p1f1_gn_20150101-21001231_cannc_SPQM_07.nc.csv\"\n",
    "s1_33_trange = \"C:/Users/14037/OneDrive - University of Calgary/Documents/ENCI_570/s1/reg_tas_day_UKESM1-0-LL_ssp126_r1i1p1f2_gn_20150101-21001230_cannc_SPQM_07.nc.csv\"\n",
    "s1_34_trange = \"C:/Users/14037/OneDrive - University of Calgary/Documents/ENCI_570/s1/reg_tas_day_UKESM1-0-LL_ssp126_r2i1p1f2_gn_20150101-21001230_cannc_SPQM_07.nc.csv\"\n",
    "\n"
   ]
  },
  {
   "cell_type": "markdown",
   "metadata": {},
   "source": [
    "## S2 Trange"
   ]
  },
  {
   "cell_type": "code",
   "execution_count": 4,
   "metadata": {},
   "outputs": [],
   "source": [
    "s2_1_trange = \"C:/Users/14037/OneDrive - University of Calgary/Documents/ENCI_570/s2/reg_tas_day_ACCESS-CM2_ssp245_r1i1p1f1_gn_20150101-21001231_cannc_SPQM_07.nc.csv\"\n",
    "s2_2_trange = \"C:/Users/14037/OneDrive - University of Calgary/Documents/ENCI_570/s2/reg_tas_day_ACCESS-CM2_ssp245_r2i1p1f1_gn_20150101-21001231_cannc_SPQM_07.nc.csv\"\n",
    "s2_3_trange = \"C:/Users/14037/OneDrive - University of Calgary/Documents/ENCI_570/s2/reg_tas_day_AWI-CM-1-1-MR_ssp245_r1i1p1f1_gn_20150101-21001231_cannc_SPQM_07.nc.csv\"\n",
    "s2_4_trange = \"C:/Users/14037/OneDrive - University of Calgary/Documents/ENCI_570/s2/reg_tas_day_BCC-CSM2-MR_ssp245_r1i1p1f1_gn_20150101-21001231_cannc_SPQM_07.nc.csv\"\n",
    "s2_5_trange = \"C:/Users/14037/OneDrive - University of Calgary/Documents/ENCI_570/s2/reg_tas_day_CanESM5_ssp245_r1i1p1f1_gn_20150101-21001231_cannc_SPQM_07.nc.csv\"\n",
    "s2_6_trange = \"C:/Users/14037/OneDrive - University of Calgary/Documents/ENCI_570/s2/reg_tas_day_CanESM5_ssp245_r2i1p1f1_gn_20150101-21001231_cannc_SPQM_07.nc.csv\"\n",
    "s2_7_trange = \"C:/Users/14037/OneDrive - University of Calgary/Documents/ENCI_570/s2/reg_tas_day_CESM2_ssp245_r4i1p1f1_gn_20150101-21010101_cannc_SPQM_07.nc.csv\"\n",
    "s2_8_trange = \"C:/Users/14037/OneDrive - University of Calgary/Documents/ENCI_570/s2/reg_tas_day_CESM2_ssp245_r10i1p1f1_gn_20150101-21010101_cannc_SPQM_07.nc.csv\"\n",
    "s2_9_trange = \"C:/Users/14037/OneDrive - University of Calgary/Documents/ENCI_570/s2/reg_tas_day_CMCC-ESM2_ssp245_r1i1p1f1_gn_20150101-21001231_cannc_SPQM_07.nc.csv\"\n",
    "s2_10_trange = \"C:/Users/14037/OneDrive - University of Calgary/Documents/ENCI_570/s2/reg_tas_day_CNRM-CM6-1_ssp245_r1i1p1f2_gr_20150101-21001231_cannc_SPQM_07.nc.csv\"\n",
    "s2_11_trange = \"C:/Users/14037/OneDrive - University of Calgary/Documents/ENCI_570/s2/reg_tas_day_CNRM-ESM2-1_ssp245_r1i1p1f2_gr_20150101-21001231_cannc_SPQM_07.nc.csv\"\n",
    "s2_12_trange = \"C:/Users/14037/OneDrive - University of Calgary/Documents/ENCI_570/s2/reg_tas_day_EC-Earth3_ssp245_r1i1p1f1_gr_20150101-21001231_cannc_SPQM_07.nc.csv\"\n",
    "s2_13_trange = \"C:/Users/14037/OneDrive - University of Calgary/Documents/ENCI_570/s2/reg_tas_day_EC-Earth3_ssp245_r4i1p1f1_gr_20150101-21001231_cannc_SPQM_07.nc.csv\"\n",
    "s2_14_trange = \"C:/Users/14037/OneDrive - University of Calgary/Documents/ENCI_570/s2/reg_tas_day_EC-Earth3-Veg_ssp245_r1i1p1f1_gr_20150101-21001231_cannc_SPQM_07.nc.csv\"\n",
    "s2_15_trange = \"C:/Users/14037/OneDrive - University of Calgary/Documents/ENCI_570/s2/reg_tas_day_EC-Earth3-Veg_ssp245_r2i1p1f1_gr_20150101-21001231_cannc_SPQM_07.nc.csv\"\n",
    "s2_16_trange = \"C:/Users/14037/OneDrive - University of Calgary/Documents/ENCI_570/s2/reg_tas_day_FGOALS-g3_ssp245_r3i1p1f1_gn_20150101-21001231_cannc_SPQM_07.nc.csv\"\n",
    "s2_17_trange = \"C:/Users/14037/OneDrive - University of Calgary/Documents/ENCI_570/s2/reg_tas_day_GFDL-CM4_ssp245_r1i1p1f1_gr1_20150101-21001231_cannc_SPQM_07.nc.csv\"\n",
    "s2_18_trange = \"C:/Users/14037/OneDrive - University of Calgary/Documents/ENCI_570/s2/reg_tas_day_GFDL-CM4_ssp245_r1i1p1f1_gr2_20150101-21001231_cannc_SPQM_07.nc.csv\"\n",
    "s2_19_trange = \"C:/Users/14037/OneDrive - University of Calgary/Documents/ENCI_570/s2/reg_tas_day_GFDL-ESM4_ssp245_r1i1p1f1_gr1_20150101-21001231_cannc_SPQM_07.nc.csv\"\n",
    "s2_20_trange = \"C:/Users/14037/OneDrive - University of Calgary/Documents/ENCI_570/s2/reg_tas_day_HadGEM3-GC31-LL_ssp245_r1i1p1f3_gn_20150101-21001230_cannc_SPQM_07.nc.csv\"\n",
    "s2_21_trange = \"C:/Users/14037/OneDrive - University of Calgary/Documents/ENCI_570/s2/reg_tas_day_INM-CM4-8_ssp245_r1i1p1f1_gr1_20150101-21001231_cannc_SPQM_07.nc.csv\"\n",
    "s2_22_trange = \"C:/Users/14037/OneDrive - University of Calgary/Documents/ENCI_570/s2/reg_tas_day_INM-CM5-0_ssp245_r1i1p1f1_gr1_20150101-21001231_cannc_SPQM_07.nc.csv\"\n",
    "s2_23_trange = \"C:/Users/14037/OneDrive - University of Calgary/Documents/ENCI_570/s2/reg_tas_day_IPSL-CM6A-LR_ssp245_r2i1p1f1_gr_20150101-21001231_cannc_SPQM_07.nc.csv\"\n",
    "s2_24_trange = \"C:/Users/14037/OneDrive - University of Calgary/Documents/ENCI_570/s2/reg_tas_day_KACE-1-0-G_ssp245_r1i1p1f1_gr_20150101-21001230_cannc_SPQM_07.nc.csv\"\n",
    "s2_25_trange = \"C:/Users/14037/OneDrive - University of Calgary/Documents/ENCI_570/s2/reg_tas_day_KACE-1-0-G_ssp245_r2i1p1f1_gr_20150101-21001230_cannc_SPQM_07.nc.csv\"\n",
    "s2_26_trange = \"C:/Users/14037/OneDrive - University of Calgary/Documents/ENCI_570/s2/reg_tas_day_MIROC6_ssp245_r1i1p1f1_gn_20150101-21001231_cannc_SPQM_07.nc.csv\"\n",
    "s2_27_trange = \"C:/Users/14037/OneDrive - University of Calgary/Documents/ENCI_570/s2/reg_tas_day_MIROC6_ssp245_r2i1p1f1_gn_20150101-21001231_cannc_SPQM_07.nc.csv\"\n",
    "s2_28_trange = \"C:/Users/14037/OneDrive - University of Calgary/Documents/ENCI_570/s2/reg_tas_day_MPI-ESM1-2-HR_ssp245_r1i1p1f1_gn_20150101-21001231_cannc_SPQM_07.nc.csv\"\n",
    "s2_29_trange = \"C:/Users/14037/OneDrive - University of Calgary/Documents/ENCI_570/s2/reg_tas_day_MPI-ESM1-2-HR_ssp245_r2i1p1f1_gn_20150101-21001231_cannc_SPQM_07.nc.csv\"\n",
    "s2_30_trange = \"C:/Users/14037/OneDrive - University of Calgary/Documents/ENCI_570/s2/reg_tas_day_MPI-ESM1-2-LR_ssp245_r1i1p1f1_gn_20150101-21001231_cannc_SPQM_07.nc.csv\"\n",
    "s2_31_trange = \"C:/Users/14037/OneDrive - University of Calgary/Documents/ENCI_570/s2/reg_tas_day_MPI-ESM1-2-LR_ssp245_r2i1p1f1_gn_20150101-21001231_cannc_SPQM_07.nc.csv\"\n",
    "s2_32_trange = \"C:/Users/14037/OneDrive - University of Calgary/Documents/ENCI_570/s2/reg_tas_day_MRI-ESM2-0_ssp245_r1i1p1f1_gn_20150101-21001231_cannc_SPQM_07.nc.csv\"\n",
    "s2_33_trange = \"C:/Users/14037/OneDrive - University of Calgary/Documents/ENCI_570/s2/reg_tas_day_NESM3_ssp245_r1i1p1f1_gn_20150101-21001231_cannc_SPQM_07.nc.csv\"\n",
    "s2_34_trange = \"C:/Users/14037/OneDrive - University of Calgary/Documents/ENCI_570/s2/reg_tas_day_NESM3_ssp245_r2i1p1f1_gn_20150101-21001231_cannc_SPQM_07.nc.csv\"\n",
    "s2_35_trange = \"C:/Users/14037/OneDrive - University of Calgary/Documents/ENCI_570/s2/reg_tas_day_UKESM1-0-LL_ssp245_r1i1p1f2_gn_20150101-21001230_cannc_SPQM_07.nc.csv\"\n",
    "s2_36_trange = \"C:/Users/14037/OneDrive - University of Calgary/Documents/ENCI_570/s2/reg_tas_day_UKESM1-0-LL_ssp245_r2i1p1f2_gn_20150101-21001230_cannc_SPQM_07.nc.csv\"\n"
   ]
  },
  {
   "cell_type": "markdown",
   "metadata": {},
   "source": [
    "## S3 Trange"
   ]
  },
  {
   "cell_type": "code",
   "execution_count": 5,
   "metadata": {},
   "outputs": [],
   "source": [
    "s3_1_trange = \"C:/Users/14037/OneDrive - University of Calgary/Documents/ENCI_570/s3/reg_tas_day_ACCESS-CM2_ssp370_r1i1p1f1_gn_20150101-21001231_cannc_SPQM_07.nc.csv\"\n",
    "s3_2_trange = \"C:/Users/14037/OneDrive - University of Calgary/Documents/ENCI_570/s3/reg_tas_day_ACCESS-CM2_ssp370_r2i1p1f1_gn_20150101-21001231_cannc_SPQM_07.nc.csv\"\n",
    "s3_3_trange = \"C:/Users/14037/OneDrive - University of Calgary/Documents/ENCI_570/s3/reg_tas_day_AWI-CM-1-1-MR_ssp370_r1i1p1f1_gn_20150101-21001231_cannc_SPQM_07.nc.csv\"\n",
    "s3_4_trange = \"C:/Users/14037/OneDrive - University of Calgary/Documents/ENCI_570/s3/reg_tas_day_BCC-CSM2-MR_ssp370_r1i1p1f1_gn_20150101-21001231_cannc_SPQM_07.nc.csv\"\n",
    "s3_5_trange = \"C:/Users/14037/OneDrive - University of Calgary/Documents/ENCI_570/s3/reg_tas_day_CanESM5_ssp370_r1i1p1f1_gn_20150101-21001231_cannc_SPQM_07.nc.csv\"\n",
    "s3_6_trange = \"C:/Users/14037/OneDrive - University of Calgary/Documents/ENCI_570/s3/reg_tas_day_CanESM5_ssp370_r2i1p1f1_gn_20150101-21001231_cannc_SPQM_07.nc.csv\"\n",
    "s3_7_trange = \"C:/Users/14037/OneDrive - University of Calgary/Documents/ENCI_570/s3/reg_tas_day_CESM2_ssp370_r4i1p1f1_gn_20150101-21010101_cannc_SPQM_07.nc.csv\"\n",
    "s3_8_trange = \"C:/Users/14037/OneDrive - University of Calgary/Documents/ENCI_570/s3/reg_tas_day_CESM2_ssp370_r10i1p1f1_gn_20150101-21010101_cannc_SPQM_07.nc.csv\"\n",
    "s3_9_trange = \"C:/Users/14037/OneDrive - University of Calgary/Documents/ENCI_570/s3/reg_tas_day_CMCC-ESM2_ssp370_r1i1p1f1_gn_20150101-21001231_cannc_SPQM_07.nc.csv\"\n",
    "s3_10_trange = \"C:/Users/14037/OneDrive - University of Calgary/Documents/ENCI_570/s3/reg_tas_day_CNRM-CM6-1_ssp370_r1i1p1f2_gr_20150101-21001231_cannc_SPQM_07.nc.csv\"\n",
    "s3_11_trange = \"C:/Users/14037/OneDrive - University of Calgary/Documents/ENCI_570/s3/reg_tas_day_CNRM-ESM2-1_ssp370_r1i1p1f2_gr_20150101-21001231_cannc_SPQM_07.nc.csv\"\n",
    "s3_12_trange = \"C:/Users/14037/OneDrive - University of Calgary/Documents/ENCI_570/s3/reg_tas_day_EC-Earth3_ssp370_r1i1p1f1_gr_20150101-21001231_cannc_SPQM_07.nc.csv\"\n",
    "s3_13_trange = \"C:/Users/14037/OneDrive - University of Calgary/Documents/ENCI_570/s3/reg_tas_day_EC-Earth3_ssp370_r4i1p1f1_gr_20150101-21001231_cannc_SPQM_07.nc.csv\"\n",
    "s3_14_trange = \"C:/Users/14037/OneDrive - University of Calgary/Documents/ENCI_570/s3/reg_tas_day_EC-Earth3-Veg_ssp370_r1i1p1f1_gr_20150101-21001231_cannc_SPQM_07.nc.csv\"\n",
    "s3_15_trange = \"C:/Users/14037/OneDrive - University of Calgary/Documents/ENCI_570/s3/reg_tas_day_EC-Earth3-Veg_ssp370_r4i1p1f1_gr_20150101-21001231_cannc_SPQM_07.nc.csv\"\n",
    "s3_16_trange = \"C:/Users/14037/OneDrive - University of Calgary/Documents/ENCI_570/s3/reg_tas_day_FGOALS-g3_ssp370_r1i1p1f1_gn_20150101-21001231_cannc_SPQM_07.nc.csv\"\n",
    "s3_17_trange = \"C:/Users/14037/OneDrive - University of Calgary/Documents/ENCI_570/s3/reg_tas_day_FGOALS-g3_ssp370_r3i1p1f1_gn_20150101-21001231_cannc_SPQM_07.nc.csv\"\n",
    "s3_18_trange = \"C:/Users/14037/OneDrive - University of Calgary/Documents/ENCI_570/s3/reg_tas_day_GFDL-ESM4_ssp370_r1i1p1f1_gr1_20150101-21001231_cannc_SPQM_07.nc.csv\"\n",
    "s3_19_trange = \"C:/Users/14037/OneDrive - University of Calgary/Documents/ENCI_570/s3/reg_tas_day_INM-CM4-8_ssp370_r1i1p1f1_gr1_20150101-21001231_cannc_SPQM_07.nc.csv\"\n",
    "s3_20_trange = \"C:/Users/14037/OneDrive - University of Calgary/Documents/ENCI_570/s3/reg_tas_day_INM-CM5-0_ssp370_r1i1p1f1_gr1_20150101-21001231_cannc_SPQM_07.nc.csv\"\n",
    "s3_21_trange = \"C:/Users/14037/OneDrive - University of Calgary/Documents/ENCI_570/s3/reg_tas_day_IPSL-CM6A-LR_ssp370_r1i1p1f1_gr_20150101-21001231_cannc_SPQM_07.nc.csv\"\n",
    "s3_22_trange = \"C:/Users/14037/OneDrive - University of Calgary/Documents/ENCI_570/s3/reg_tas_day_KACE-1-0-G_ssp370_r1i1p1f1_gr_20150101-21001230_cannc_SPQM_07.nc.csv\"\n",
    "s3_23_trange = \"C:/Users/14037/OneDrive - University of Calgary/Documents/ENCI_570/s3/reg_tas_day_KACE-1-0-G_ssp370_r2i1p1f1_gr_20150101-21001230_cannc_SPQM_07.nc.csv\"\n",
    "s3_24_trange = \"C:/Users/14037/OneDrive - University of Calgary/Documents/ENCI_570/s3/reg_tas_day_MIROC6_ssp370_r1i1p1f1_gn_20150101-21001231_cannc_SPQM_07.nc.csv\"\n",
    "s3_25_trange = \"C:/Users/14037/OneDrive - University of Calgary/Documents/ENCI_570/s3/reg_tas_day_MIROC6_ssp370_r2i1p1f1_gn_20150101-21001231_cannc_SPQM_07.nc.csv\"\n",
    "s3_26_trange = \"C:/Users/14037/OneDrive - University of Calgary/Documents/ENCI_570/s3/reg_tas_day_MPI-ESM1-2-HR_ssp370_r1i1p1f1_gn_20150101-21001231_cannc_SPQM_07.nc.csv\"\n",
    "s3_27_trange = \"C:/Users/14037/OneDrive - University of Calgary/Documents/ENCI_570/s3/reg_tas_day_MPI-ESM1-2-HR_ssp370_r2i1p1f1_gn_20150101-21001231_cannc_SPQM_07.nc.csv\"\n",
    "s3_28_trange = \"C:/Users/14037/OneDrive - University of Calgary/Documents/ENCI_570/s3/reg_tas_day_MPI-ESM1-2-LR_ssp370_r1i1p1f1_gn_20150101-21001231_cannc_SPQM_07.nc.csv\"\n",
    "s3_29_trange = \"C:/Users/14037/OneDrive - University of Calgary/Documents/ENCI_570/s3/reg_tas_day_MPI-ESM1-2-LR_ssp370_r2i1p1f1_gn_20150101-21001231_cannc_SPQM_07.nc.csv\"\n",
    "s3_30_trange = \"C:/Users/14037/OneDrive - University of Calgary/Documents/ENCI_570/s3/reg_tas_day_MRI-ESM2-0_ssp370_r1i1p1f1_gn_20150101-21001231_cannc_SPQM_07.nc.csv\"\n",
    "s3_31_trange = \"C:/Users/14037/OneDrive - University of Calgary/Documents/ENCI_570/s3/reg_tas_day_UKESM1-0-LL_ssp370_r1i1p1f2_gn_20150101-21001230_cannc_SPQM_07.nc.csv\"\n",
    "s3_32_trange = \"C:/Users/14037/OneDrive - University of Calgary/Documents/ENCI_570/s3/reg_tas_day_UKESM1-0-LL_ssp370_r2i1p1f2_gn_20150101-21001230_cannc_SPQM_07.nc.csv\"\n"
   ]
  },
  {
   "cell_type": "markdown",
   "metadata": {},
   "source": [
    "## S4 Trange"
   ]
  },
  {
   "cell_type": "code",
   "execution_count": 6,
   "metadata": {},
   "outputs": [],
   "source": [
    "s4_1_trange = \"C:/Users/14037/OneDrive - University of Calgary/Documents/ENCI_570/s4/reg_tas_day_ACCESS-CM2_ssp585_r2i1p1f1_gn_20150101-21001231_cannc_SPQM_07.nc.csv\"\n",
    "s4_2_trange = \"C:/Users/14037/OneDrive - University of Calgary/Documents/ENCI_570/s4/reg_tas_day_AWI-CM-1-1-MR_ssp585_r1i1p1f1_gn_20150101-21001231_cannc_SPQM_07.nc.csv\"\n",
    "s4_3_trange = \"C:/Users/14037/OneDrive - University of Calgary/Documents/ENCI_570/s4/reg_tas_day_BCC-CSM2-MR_ssp585_r1i1p1f1_gn_20150101-21001231_cannc_SPQM_07.nc.csv\"\n",
    "s4_4_trange = \"C:/Users/14037/OneDrive - University of Calgary/Documents/ENCI_570/s4/reg_tas_day_CanESM5_ssp585_r1i1p1f1_gn_20150101-21001231_cannc_SPQM_07.nc.csv\"\n",
    "s4_5_trange = \"C:/Users/14037/OneDrive - University of Calgary/Documents/ENCI_570/s4/reg_tas_day_CanESM5_ssp585_r2i1p1f1_gn_20150101-21001231_cannc_SPQM_07.nc.csv\"\n",
    "s4_6_trange = \"C:/Users/14037/OneDrive - University of Calgary/Documents/ENCI_570/s4/reg_tas_day_CESM2_ssp585_r4i1p1f1_gn_20150101-21010101_cannc_SPQM_07.nc.csv\"\n",
    "s4_7_trange = \"C:/Users/14037/OneDrive - University of Calgary/Documents/ENCI_570/s4/reg_tas_day_CESM2_ssp585_r10i1p1f1_gn_20150101-21010101_cannc_SPQM_07.nc.csv\"\n",
    "s4_8_trange = \"C:/Users/14037/OneDrive - University of Calgary/Documents/ENCI_570/s4/reg_tas_day_CMCC-ESM2_ssp585_r1i1p1f1_gn_20150101-21001231_cannc_SPQM_07.nc.csv\"\n",
    "s4_9_trange = \"C:/Users/14037/OneDrive - University of Calgary/Documents/ENCI_570/s4/reg_tas_day_CNRM-CM6-1_ssp585_r1i1p1f2_gr_20150101-21001231_cannc_SPQM_07.nc.csv\"\n",
    "s4_10_trange = \"C:/Users/14037/OneDrive - University of Calgary/Documents/ENCI_570/s4/reg_tas_day_CNRM-CM6-1-HR_ssp585_r1i1p1f2_gr_20150101-21001231_cannc_SPQM_07.nc.csv\"\n",
    "s4_11_trange = \"C:/Users/14037/OneDrive - University of Calgary/Documents/ENCI_570/s4/reg_tas_day_CNRM-ESM2-1_ssp585_r1i1p1f2_gr_20150101-21001231_cannc_SPQM_07.nc.csv\"\n",
    "s4_12_trange = \"C:/Users/14037/OneDrive - University of Calgary/Documents/ENCI_570/s4/reg_tas_day_EC-Earth3_ssp585_r1i1p1f1_gr_20150101-21001231_cannc_SPQM_07.nc.csv\"\n",
    "s4_13_trange = \"C:/Users/14037/OneDrive - University of Calgary/Documents/ENCI_570/s4/reg_tas_day_EC-Earth3_ssp585_r4i1p1f1_gr_20150101-21001231_cannc_SPQM_07.nc.csv\"\n",
    "s4_14_trange = \"C:/Users/14037/OneDrive - University of Calgary/Documents/ENCI_570/s4/reg_tas_day_EC-Earth3-Veg_ssp585_r1i1p1f1_gr_20150101-21001231_cannc_SPQM_07.nc.csv\"\n",
    "s4_15_trange = \"C:/Users/14037/OneDrive - University of Calgary/Documents/ENCI_570/s4/reg_tas_day_EC-Earth3-Veg_ssp585_r4i1p1f1_gr_20150101-21001231_cannc_SPQM_07.nc.csv\"\n",
    "s4_16_trange = \"C:/Users/14037/OneDrive - University of Calgary/Documents/ENCI_570/s4/reg_tas_day_FGOALS-g3_ssp585_r1i1p1f1_gn_20150101-21001231_cannc_SPQM_07.nc.csv\"\n",
    "s4_17_trange = \"C:/Users/14037/OneDrive - University of Calgary/Documents/ENCI_570/s4/reg_tas_day_FGOALS-g3_ssp585_r3i1p1f1_gn_20150101-21001231_cannc_SPQM_07.nc.csv\"\n",
    "s4_18_trange = \"C:/Users/14037/OneDrive - University of Calgary/Documents/ENCI_570/s4/reg_tas_day_GFDL-CM4_ssp585_r1i1p1f1_gr1_20150101-21001231_cannc_SPQM_07.nc.csv\"\n",
    "s4_19_trange = \"C:/Users/14037/OneDrive - University of Calgary/Documents/ENCI_570/s4/reg_tas_day_GFDL-CM4_ssp585_r1i1p1f1_gr2_20150101-21001231_cannc_SPQM_07.nc.csv\"\n",
    "s4_20_trange = \"C:/Users/14037/OneDrive - University of Calgary/Documents/ENCI_570/s4/reg_tas_day_GFDL-ESM4_ssp585_r1i1p1f1_gr1_20150101-21001231_cannc_SPQM_07.nc.csv\"\n",
    "s4_21_trange = \"C:/Users/14037/OneDrive - University of Calgary/Documents/ENCI_570/s4/reg_tas_day_HadGEM3-GC31-LL_ssp585_r1i1p1f3_gn_20150101-21001230_cannc_SPQM_07.nc.csv\"\n",
    "s4_22_trange = \"C:/Users/14037/OneDrive - University of Calgary/Documents/ENCI_570/s4/reg_tas_day_HadGEM3-GC31-MM_ssp585_r1i1p1f3_gn_20150101-21001230_cannc_SPQM_07.nc.csv\"\n",
    "s4_23_trange = \"C:/Users/14037/OneDrive - University of Calgary/Documents/ENCI_570/s4/reg_tas_day_INM-CM4-8_ssp585_r1i1p1f1_gr1_20150101-21001231_cannc_SPQM_07.nc.csv\"\n",
    "s4_24_trange = \"C:/Users/14037/OneDrive - University of Calgary/Documents/ENCI_570/s4/reg_tas_day_INM-CM5-0_ssp585_r1i1p1f1_gr1_20150101-21001231_cannc_SPQM_07.nc.csv\"\n",
    "s4_25_trange = \"C:/Users/14037/OneDrive - University of Calgary/Documents/ENCI_570/s4/reg_tas_day_IPSL-CM6A-LR_ssp585_r2i1p1f1_gr_20150101-21001231_cannc_SPQM_07.nc.csv\"\n",
    "s4_26_trange = \"C:/Users/14037/OneDrive - University of Calgary/Documents/ENCI_570/s4/reg_tas_day_KACE-1-0-G_ssp585_r1i1p1f1_gr_20150101-21001230_cannc_SPQM_07.nc.csv\"\n",
    "s4_27_trange = \"C:/Users/14037/OneDrive - University of Calgary/Documents/ENCI_570/s4/reg_tas_day_KACE-1-0-G_ssp585_r2i1p1f1_gr_20150101-21001230_cannc_SPQM_07.nc.csv\"\n",
    "s4_28_trange = \"C:/Users/14037/OneDrive - University of Calgary/Documents/ENCI_570/s4/reg_tas_day_MIROC6_ssp585_r1i1p1f1_gn_20150101-21001231_cannc_SPQM_07.nc.csv\"\n",
    "s4_29_trange = \"C:/Users/14037/OneDrive - University of Calgary/Documents/ENCI_570/s4/reg_tas_day_MIROC6_ssp585_r2i1p1f1_gn_20150101-21001231_cannc_SPQM_07.nc.csv\"\n",
    "s4_30_trange = \"C:/Users/14037/OneDrive - University of Calgary/Documents/ENCI_570/s4/reg_tas_day_MPI-ESM1-2-HR_ssp585_r1i1p1f1_gn_20150101-21001231_cannc_SPQM_07.nc.csv\"\n",
    "s4_31_trange = \"C:/Users/14037/OneDrive - University of Calgary/Documents/ENCI_570/s4/reg_tas_day_MPI-ESM1-2-HR_ssp585_r2i1p1f1_gn_20150101-21001231_cannc_SPQM_07.nc.csv\"\n",
    "s4_32_trange = \"C:/Users/14037/OneDrive - University of Calgary/Documents/ENCI_570/s4/reg_tas_day_MPI-ESM1-2-LR_ssp585_r1i1p1f1_gn_20150101-21001231_cannc_SPQM_07.nc.csv\"\n",
    "s4_33_trange = \"C:/Users/14037/OneDrive - University of Calgary/Documents/ENCI_570/s4/reg_tas_day_MPI-ESM1-2-LR_ssp585_r2i1p1f1_gn_20150101-21001231_cannc_SPQM_07.nc.csv\"\n",
    "s4_34_trange = \"C:/Users/14037/OneDrive - University of Calgary/Documents/ENCI_570/s4/reg_tas_day_MRI-ESM2-0_ssp585_r1i2p1f1_gn_20150101-21001231_cannc_SPQM_07.nc.csv\"\n",
    "s4_35_trange = \"C:/Users/14037/OneDrive - University of Calgary/Documents/ENCI_570/s4/reg_tas_day_NESM3_ssp585_r1i1p1f1_gn_20150101-21001231_cannc_SPQM_07.nc.csv\"\n",
    "s4_36_trange = \"C:/Users/14037/OneDrive - University of Calgary/Documents/ENCI_570/s4/reg_tas_day_NESM3_ssp585_r2i1p1f1_gn_20150101-21001231_cannc_SPQM_07.nc.csv\"\n",
    "s4_37_trange = \"C:/Users/14037/OneDrive - University of Calgary/Documents/ENCI_570/s4/reg_tas_day_NorESM2-LM_ssp585_r1i1p1f1_gn_20150101-21001231_cannc_SPQM_07.nc.csv\"\n",
    "s4_38_trange = \"C:/Users/14037/OneDrive - University of Calgary/Documents/ENCI_570/s4/reg_tas_day_NorESM2-MM_ssp585_r1i1p1f1_gn_20150101-21001231_cannc_SPQM_07.nc.csv\"\n",
    "s4_39_trange = \"C:/Users/14037/OneDrive - University of Calgary/Documents/ENCI_570/s4/reg_tas_day_UKESM1-0-LL_ssp585_r1i1p1f2_gn_20150101-21001230_cannc_SPQM_07.nc.csv\"\n",
    "s4_40_trange = \"C:/Users/14037/OneDrive - University of Calgary/Documents/ENCI_570/s4/reg_tas_day_UKESM1-0-LL_ssp585_r2i1p1f2_gn_20150101-21001230_cannc_SPQM_07.nc.csv\"\n"
   ]
  },
  {
   "cell_type": "markdown",
   "metadata": {},
   "source": [
    "# Utility Functions"
   ]
  },
  {
   "cell_type": "code",
   "execution_count": 7,
   "metadata": {},
   "outputs": [],
   "source": [
    "def filter_dataframe(df, x_value=245.25, y_value=49.55):\n",
    "    \"\"\"\n",
    "    Filter a DataFrame to keep only rows where 'X' is equal to x_value and 'Y' is equal to y_value.\n",
    "\n",
    "    Parameters:\n",
    "    - df: pandas DataFrame\n",
    "    - x_value: Value to match in the 'X' column\n",
    "    - y_value: Value to match in the 'Y' column\n",
    "\n",
    "    Returns:\n",
    "    - pandas DataFrame containing filtered rows\n",
    "    \"\"\"\n",
    "    filtered_df = df[(df['x'] == x_value) & (df['y'] == y_value)]\n",
    "    return filtered_df"
   ]
  },
  {
   "cell_type": "code",
   "execution_count": 8,
   "metadata": {},
   "outputs": [],
   "source": [
    "def reshape_dataframe(df, value_column_name):\n",
    "    \"\"\"\n",
    "    Reshape a DataFrame from wide to long format by melting the date columns.\n",
    "\n",
    "    Parameters:\n",
    "    - df: pandas DataFrame with 'x', 'y', and date columns\n",
    "    - value_column_name: Desired name for the value column ('tmean' or 'precip')\n",
    "\n",
    "    Returns:\n",
    "    - Reshaped pandas DataFrame with columns 'Date' and 'Value'\n",
    "    \"\"\"\n",
    "    # Melt the DataFrame, keeping 'x' and 'y' as identifiers\n",
    "    melted_df = pd.melt(df, id_vars=['x', 'y'], var_name='Date', value_name=value_column_name)\n",
    "\n",
    "    # Remove 'X' from the beginning of 'Date' values, if present\n",
    "    melted_df['Date'] = melted_df['Date'].str.replace('X', '')\n",
    "\n",
    "    # Convert the 'Date' column to datetime format\n",
    "    melted_df['Date'] = pd.to_datetime(melted_df['Date'], errors='coerce')  # Use errors='coerce' to handle invalid date formats\n",
    "\n",
    "    return melted_df[['Date', value_column_name]]\n"
   ]
  },
  {
   "cell_type": "code",
   "execution_count": 25,
   "metadata": {},
   "outputs": [],
   "source": [
    "def delete_empty_dataframes(dataframes_list):\n",
    "    \"\"\"\n",
    "    Delete empty DataFrames from the given list.\n",
    "\n",
    "    Parameters:\n",
    "    - dataframes_list: List of DataFrames\n",
    "\n",
    "    Returns:\n",
    "    - List of DataFrames with empty DataFrames removed\n",
    "    \"\"\"\n",
    "    non_empty_dataframes = [df for df in dataframes_list if not df.empty]\n",
    "    return non_empty_dataframes\n"
   ]
  },
  {
   "cell_type": "markdown",
   "metadata": {},
   "source": [
    "# Data Engineering"
   ]
  },
  {
   "cell_type": "markdown",
   "metadata": {},
   "source": [
    "## Observed"
   ]
  },
  {
   "cell_type": "code",
   "execution_count": 9,
   "metadata": {},
   "outputs": [
    {
     "data": {
      "text/html": [
       "<div>\n",
       "<style scoped>\n",
       "    .dataframe tbody tr th:only-of-type {\n",
       "        vertical-align: middle;\n",
       "    }\n",
       "\n",
       "    .dataframe tbody tr th {\n",
       "        vertical-align: top;\n",
       "    }\n",
       "\n",
       "    .dataframe thead th {\n",
       "        text-align: right;\n",
       "    }\n",
       "</style>\n",
       "<table border=\"1\" class=\"dataframe\">\n",
       "  <thead>\n",
       "    <tr style=\"text-align: right;\">\n",
       "      <th></th>\n",
       "      <th>Date</th>\n",
       "      <th>trange</th>\n",
       "    </tr>\n",
       "  </thead>\n",
       "  <tbody>\n",
       "    <tr>\n",
       "      <th>0</th>\n",
       "      <td>1979-01-01</td>\n",
       "      <td>12.577</td>\n",
       "    </tr>\n",
       "    <tr>\n",
       "      <th>1</th>\n",
       "      <td>1979-01-02</td>\n",
       "      <td>9.769</td>\n",
       "    </tr>\n",
       "    <tr>\n",
       "      <th>2</th>\n",
       "      <td>1979-01-03</td>\n",
       "      <td>9.818</td>\n",
       "    </tr>\n",
       "    <tr>\n",
       "      <th>3</th>\n",
       "      <td>1979-01-04</td>\n",
       "      <td>12.729</td>\n",
       "    </tr>\n",
       "    <tr>\n",
       "      <th>4</th>\n",
       "      <td>1979-01-05</td>\n",
       "      <td>13.063</td>\n",
       "    </tr>\n",
       "  </tbody>\n",
       "</table>\n",
       "</div>"
      ],
      "text/plain": [
       "        Date  trange\n",
       "0 1979-01-01  12.577\n",
       "1 1979-01-02   9.769\n",
       "2 1979-01-03   9.818\n",
       "3 1979-01-04  12.729\n",
       "4 1979-01-05  13.063"
      ]
     },
     "execution_count": 9,
     "metadata": {},
     "output_type": "execute_result"
    }
   ],
   "source": [
    "obs_trange_df = pd.read_csv(observed_trange)\n",
    "obs_trange_df = filter_dataframe(obs_trange_df)\n",
    "obs_trange_df = reshape_dataframe(obs_trange_df, value_column_name='trange')\n",
    "obs_trange_df.head()"
   ]
  },
  {
   "cell_type": "code",
   "execution_count": 10,
   "metadata": {},
   "outputs": [],
   "source": [
    "csv_filename = \"observed_trange.csv\"  # Naming based on position in the list\n",
    "csv_filepath = os.path.join(\"C:/Users/14037/OneDrive - University of Calgary/Documents/ENCI_570/TM_PHES_code/Observed/trange\", csv_filename)\n",
    "obs_trange_df.to_csv(csv_filepath, index=False)"
   ]
  },
  {
   "cell_type": "markdown",
   "metadata": {},
   "source": [
    "## S1"
   ]
  },
  {
   "cell_type": "code",
   "execution_count": 11,
   "metadata": {},
   "outputs": [],
   "source": [
    "s1_1_trange_df = pd.read_csv(s1_1_trange)\n",
    "s1_2_trange_df = pd.read_csv(s1_2_trange)\n",
    "s1_3_trange_df = pd.read_csv(s1_3_trange)\n",
    "s1_4_trange_df = pd.read_csv(s1_4_trange)\n",
    "s1_5_trange_df = pd.read_csv(s1_5_trange)\n",
    "s1_6_trange_df = pd.read_csv(s1_6_trange) \n",
    "s1_7_trange_df = pd.read_csv(s1_7_trange)\n",
    "s1_8_trange_df = pd.read_csv(s1_8_trange) \n",
    "s1_9_trange_df = pd.read_csv(s1_9_trange)\n",
    "s1_10_trange_df = pd.read_csv(s1_10_trange)\n",
    "s1_11_trange_df = pd.read_csv(s1_11_trange)\n",
    "s1_12_trange_df = pd.read_csv(s1_12_trange)\n",
    "s1_13_trange_df = pd.read_csv(s1_13_trange)\n",
    "s1_14_trange_df = pd.read_csv(s1_14_trange)\n",
    "s1_15_trange_df = pd.read_csv(s1_15_trange)\n",
    "s1_16_trange_df = pd.read_csv(s1_16_trange)\n",
    "s1_17_trange_df = pd.read_csv(s1_17_trange)\n",
    "s1_18_trange_df = pd.read_csv(s1_18_trange)\n",
    "s1_19_trange_df = pd.read_csv(s1_19_trange)\n",
    "s1_20_trange_df = pd.read_csv(s1_20_trange)\n",
    "s1_21_trange_df = pd.read_csv(s1_21_trange)\n",
    "s1_22_trange_df = pd.read_csv(s1_22_trange)\n",
    "s1_23_trange_df = pd.read_csv(s1_23_trange)\n",
    "s1_24_trange_df = pd.read_csv(s1_24_trange)\n",
    "s1_25_trange_df = pd.read_csv(s1_25_trange)\n",
    "s1_26_trange_df = pd.read_csv(s1_26_trange)\n",
    "s1_27_trange_df = pd.read_csv(s1_27_trange)\n",
    "s1_28_trange_df = pd.read_csv(s1_28_trange)\n",
    "s1_29_trange_df = pd.read_csv(s1_29_trange)\n",
    "s1_30_trange_df = pd.read_csv(s1_30_trange)\n",
    "s1_31_trange_df = pd.read_csv(s1_31_trange)\n",
    "s1_32_trange_df = pd.read_csv(s1_32_trange)\n",
    "s1_33_trange_df = pd.read_csv(s1_33_trange)\n",
    "s1_34_trange_df = pd.read_csv(s1_34_trange)"
   ]
  },
  {
   "cell_type": "code",
   "execution_count": 12,
   "metadata": {},
   "outputs": [],
   "source": [
    "dataframe_1_trange = [\n",
    "    s1_1_trange_df, s1_2_trange_df, s1_3_trange_df, s1_4_trange_df, s1_5_trange_df,\n",
    "    s1_6_trange_df, s1_7_trange_df, s1_8_trange_df, s1_9_trange_df, s1_10_trange_df,\n",
    "    s1_11_trange_df, s1_12_trange_df, s1_13_trange_df, s1_14_trange_df, s1_15_trange_df,\n",
    "    s1_16_trange_df, s1_17_trange_df, s1_18_trange_df, s1_19_trange_df, s1_20_trange_df,\n",
    "    s1_21_trange_df, s1_22_trange_df, s1_23_trange_df, s1_24_trange_df, s1_25_trange_df,\n",
    "    s1_26_trange_df, s1_27_trange_df, s1_28_trange_df, s1_29_trange_df, s1_30_trange_df,\n",
    "    s1_31_trange_df, s1_32_trange_df, s1_33_trange_df, s1_34_trange_df\n",
    "]\n",
    "# Specify the value column name\n",
    "value_column_name = 'trange'  \n",
    "\n",
    "# Iterate over the list of dataframes\n",
    "for i in range(len(dataframe_1_trange)):\n",
    "    # Apply the filter_dataframe function\n",
    "    dataframe_1_trange[i] = filter_dataframe(dataframe_1_trange[i])\n",
    "\n",
    "    # Apply the reshape_dataframe function\n",
    "    dataframe_1_trange[i] = reshape_dataframe(dataframe_1_trange[i], value_column_name)\n"
   ]
  },
  {
   "cell_type": "code",
   "execution_count": 13,
   "metadata": {},
   "outputs": [
    {
     "data": {
      "text/html": [
       "<div>\n",
       "<style scoped>\n",
       "    .dataframe tbody tr th:only-of-type {\n",
       "        vertical-align: middle;\n",
       "    }\n",
       "\n",
       "    .dataframe tbody tr th {\n",
       "        vertical-align: top;\n",
       "    }\n",
       "\n",
       "    .dataframe thead th {\n",
       "        text-align: right;\n",
       "    }\n",
       "</style>\n",
       "<table border=\"1\" class=\"dataframe\">\n",
       "  <thead>\n",
       "    <tr style=\"text-align: right;\">\n",
       "      <th></th>\n",
       "      <th>Date</th>\n",
       "      <th>trange</th>\n",
       "    </tr>\n",
       "  </thead>\n",
       "  <tbody>\n",
       "    <tr>\n",
       "      <th>0</th>\n",
       "      <td>2015-01-01</td>\n",
       "      <td>6.157924</td>\n",
       "    </tr>\n",
       "    <tr>\n",
       "      <th>1</th>\n",
       "      <td>2015-01-02</td>\n",
       "      <td>6.855071</td>\n",
       "    </tr>\n",
       "    <tr>\n",
       "      <th>2</th>\n",
       "      <td>2015-01-03</td>\n",
       "      <td>4.295697</td>\n",
       "    </tr>\n",
       "    <tr>\n",
       "      <th>3</th>\n",
       "      <td>2015-01-04</td>\n",
       "      <td>3.179259</td>\n",
       "    </tr>\n",
       "    <tr>\n",
       "      <th>4</th>\n",
       "      <td>2015-01-05</td>\n",
       "      <td>9.778684</td>\n",
       "    </tr>\n",
       "  </tbody>\n",
       "</table>\n",
       "</div>"
      ],
      "text/plain": [
       "        Date    trange\n",
       "0 2015-01-01  6.157924\n",
       "1 2015-01-02  6.855071\n",
       "2 2015-01-03  4.295697\n",
       "3 2015-01-04  3.179259\n",
       "4 2015-01-05  9.778684"
      ]
     },
     "execution_count": 13,
     "metadata": {},
     "output_type": "execute_result"
    }
   ],
   "source": [
    "dataframe_1_trange[0].head()"
   ]
  },
  {
   "cell_type": "code",
   "execution_count": 26,
   "metadata": {},
   "outputs": [],
   "source": [
    "non_empty_trange_dfs_s1= delete_empty_dataframes(dataframe_1_trange)"
   ]
  },
  {
   "cell_type": "code",
   "execution_count": 27,
   "metadata": {},
   "outputs": [],
   "source": [
    "# Iterate over the merged dataframes for saving\n",
    "for i, trange_df in enumerate(non_empty_trange_dfs_s1):\n",
    "    # Save the merged dataframe to a CSV file\n",
    "    csv_filename = f\"s1_{i+1}_trange.csv\"  # Naming based on position in the list\n",
    "    csv_filepath = os.path.join(\"C:/Users/14037/OneDrive - University of Calgary/Documents/ENCI_570/TM_PHES_code/S1/trange\", csv_filename)\n",
    "    trange_df.to_csv(csv_filepath, index=False)\n"
   ]
  },
  {
   "cell_type": "markdown",
   "metadata": {},
   "source": [
    "## S2"
   ]
  },
  {
   "cell_type": "code",
   "execution_count": 15,
   "metadata": {},
   "outputs": [],
   "source": [
    "s2_1_trange_df = pd.read_csv(s2_1_trange)\n",
    "s2_2_trange_df = pd.read_csv(s2_2_trange)\n",
    "s2_3_trange_df = pd.read_csv(s2_3_trange)\n",
    "s2_4_trange_df = pd.read_csv(s2_4_trange)\n",
    "s2_5_trange_df = pd.read_csv(s2_5_trange)\n",
    "s2_6_trange_df = pd.read_csv(s2_6_trange) \n",
    "s2_7_trange_df = pd.read_csv(s2_7_trange)\n",
    "s2_8_trange_df = pd.read_csv(s2_8_trange) \n",
    "s2_9_trange_df = pd.read_csv(s2_9_trange)\n",
    "s2_10_trange_df = pd.read_csv(s2_10_trange)\n",
    "s2_11_trange_df = pd.read_csv(s2_11_trange)\n",
    "s2_12_trange_df = pd.read_csv(s2_12_trange)\n",
    "s2_13_trange_df = pd.read_csv(s2_13_trange)\n",
    "s2_14_trange_df = pd.read_csv(s2_14_trange)\n",
    "s2_15_trange_df = pd.read_csv(s2_15_trange)\n",
    "s2_16_trange_df = pd.read_csv(s2_16_trange)\n",
    "s2_17_trange_df = pd.read_csv(s2_17_trange)\n",
    "s2_18_trange_df = pd.read_csv(s2_18_trange)\n",
    "s2_19_trange_df = pd.read_csv(s2_19_trange)\n",
    "s2_20_trange_df = pd.read_csv(s2_20_trange)\n",
    "s2_21_trange_df = pd.read_csv(s2_21_trange)\n",
    "s2_22_trange_df = pd.read_csv(s2_22_trange)\n",
    "s2_23_trange_df = pd.read_csv(s2_23_trange)\n",
    "s2_24_trange_df = pd.read_csv(s2_24_trange)\n",
    "s2_25_trange_df = pd.read_csv(s2_25_trange)\n",
    "s2_26_trange_df = pd.read_csv(s2_26_trange)\n",
    "s2_27_trange_df = pd.read_csv(s2_27_trange)\n",
    "s2_28_trange_df = pd.read_csv(s2_28_trange)\n",
    "s2_29_trange_df = pd.read_csv(s2_29_trange)\n",
    "s2_30_trange_df = pd.read_csv(s2_30_trange)\n",
    "s2_31_trange_df = pd.read_csv(s2_31_trange)\n",
    "s2_32_trange_df = pd.read_csv(s2_32_trange)\n",
    "s2_33_trange_df = pd.read_csv(s2_33_trange)\n",
    "s2_34_trange_df = pd.read_csv(s2_34_trange)\n",
    "s2_35_trange_df = pd.read_csv(s2_35_trange)\n",
    "s2_36_trange_df = pd.read_csv(s2_36_trange)\n"
   ]
  },
  {
   "cell_type": "code",
   "execution_count": 16,
   "metadata": {},
   "outputs": [],
   "source": [
    "dataframe_2_trange = [\n",
    "    s2_1_trange_df, s2_2_trange_df, s2_3_trange_df, s2_4_trange_df, s2_5_trange_df,\n",
    "    s2_6_trange_df, s2_7_trange_df, s2_8_trange_df, s2_9_trange_df, s2_10_trange_df,\n",
    "    s2_11_trange_df, s2_12_trange_df, s2_13_trange_df, s2_14_trange_df, s2_15_trange_df,\n",
    "    s2_16_trange_df, s2_17_trange_df, s2_18_trange_df, s2_19_trange_df, s2_20_trange_df,\n",
    "    s2_21_trange_df, s2_22_trange_df, s2_23_trange_df, s2_24_trange_df, s2_25_trange_df,\n",
    "    s2_26_trange_df, s2_27_trange_df, s2_28_trange_df, s2_29_trange_df, s2_30_trange_df,\n",
    "    s2_31_trange_df, s2_32_trange_df, s2_33_trange_df, s2_34_trange_df, s2_35_trange_df, \n",
    "    s2_36_trange_df\n",
    "]\n",
    "# Specify the value column name\n",
    "value_column_name = 'trange'  \n",
    "\n",
    "# Iterate over the list of dataframes\n",
    "for i in range(len(dataframe_2_trange)):\n",
    "    # Apply the filter_dataframe function\n",
    "    dataframe_2_trange[i] = filter_dataframe(dataframe_2_trange[i])\n",
    "\n",
    "    # Apply the reshape_dataframe function\n",
    "    dataframe_2_trange[i] = reshape_dataframe(dataframe_2_trange[i], value_column_name)\n"
   ]
  },
  {
   "cell_type": "code",
   "execution_count": 28,
   "metadata": {},
   "outputs": [],
   "source": [
    "non_empty_trange_dfs_s2= delete_empty_dataframes(dataframe_2_trange)"
   ]
  },
  {
   "cell_type": "code",
   "execution_count": 29,
   "metadata": {},
   "outputs": [],
   "source": [
    "# Iterate over the merged dataframes for saving\n",
    "for i, trange_df in enumerate(non_empty_trange_dfs_s2):\n",
    "    # Save the merged dataframe to a CSV file\n",
    "    csv_filename = f\"s2_{i+1}_trange.csv\"  # Naming based on position in the list\n",
    "    csv_filepath = os.path.join(\"C:/Users/14037/OneDrive - University of Calgary/Documents/ENCI_570/TM_PHES_code/S2/trange\", csv_filename)\n",
    "    trange_df.to_csv(csv_filepath, index=False)\n"
   ]
  },
  {
   "cell_type": "markdown",
   "metadata": {},
   "source": [
    "## S3"
   ]
  },
  {
   "cell_type": "code",
   "execution_count": 18,
   "metadata": {},
   "outputs": [],
   "source": [
    "s3_1_trange_df = pd.read_csv(s3_1_trange)\n",
    "s3_2_trange_df = pd.read_csv(s3_2_trange)\n",
    "s3_3_trange_df = pd.read_csv(s3_3_trange)\n",
    "s3_4_trange_df = pd.read_csv(s3_4_trange)\n",
    "s3_5_trange_df = pd.read_csv(s3_5_trange)\n",
    "s3_6_trange_df = pd.read_csv(s3_6_trange) \n",
    "s3_7_trange_df = pd.read_csv(s3_7_trange)\n",
    "s3_8_trange_df = pd.read_csv(s3_8_trange) \n",
    "s3_9_trange_df = pd.read_csv(s3_9_trange)\n",
    "s3_10_trange_df = pd.read_csv(s3_10_trange)\n",
    "s3_11_trange_df = pd.read_csv(s3_11_trange)\n",
    "s3_12_trange_df = pd.read_csv(s3_12_trange)\n",
    "s3_13_trange_df = pd.read_csv(s3_13_trange)\n",
    "s3_14_trange_df = pd.read_csv(s3_14_trange)\n",
    "s3_15_trange_df = pd.read_csv(s3_15_trange)\n",
    "s3_16_trange_df = pd.read_csv(s3_16_trange)\n",
    "s3_17_trange_df = pd.read_csv(s3_17_trange)\n",
    "s3_18_trange_df = pd.read_csv(s3_18_trange)\n",
    "s3_19_trange_df = pd.read_csv(s3_19_trange)\n",
    "s3_20_trange_df = pd.read_csv(s3_20_trange)\n",
    "s3_21_trange_df = pd.read_csv(s3_21_trange)\n",
    "s3_22_trange_df = pd.read_csv(s3_22_trange)\n",
    "s3_23_trange_df = pd.read_csv(s3_23_trange)\n",
    "s3_24_trange_df = pd.read_csv(s3_24_trange)\n",
    "s3_25_trange_df = pd.read_csv(s3_25_trange)\n",
    "s3_26_trange_df = pd.read_csv(s3_26_trange)\n",
    "s3_27_trange_df = pd.read_csv(s3_27_trange)\n",
    "s3_28_trange_df = pd.read_csv(s3_28_trange)\n",
    "s3_29_trange_df = pd.read_csv(s3_29_trange)\n",
    "s3_30_trange_df = pd.read_csv(s3_30_trange)\n",
    "s3_31_trange_df = pd.read_csv(s3_31_trange)\n",
    "s3_32_trange_df = pd.read_csv(s3_32_trange)\n"
   ]
  },
  {
   "cell_type": "code",
   "execution_count": 19,
   "metadata": {},
   "outputs": [],
   "source": [
    "dataframe_3_trange = [\n",
    "    s3_1_trange_df, s3_2_trange_df, s3_3_trange_df, s3_4_trange_df, s3_5_trange_df,\n",
    "    s3_6_trange_df, s3_7_trange_df, s3_8_trange_df, s3_9_trange_df, s3_10_trange_df,\n",
    "    s3_11_trange_df, s3_12_trange_df, s3_13_trange_df, s3_14_trange_df, s3_15_trange_df,\n",
    "    s3_16_trange_df, s3_17_trange_df, s3_18_trange_df, s3_19_trange_df, s3_20_trange_df,\n",
    "    s3_21_trange_df, s3_22_trange_df, s3_23_trange_df, s3_24_trange_df, s3_25_trange_df,\n",
    "    s3_26_trange_df, s3_27_trange_df, s3_28_trange_df, s3_29_trange_df, s3_30_trange_df,\n",
    "    s3_31_trange_df, s3_32_trange_df\n",
    "]\n",
    "# Specify the value column name\n",
    "value_column_name = 'trange'  \n",
    "\n",
    "# Iterate over the list of dataframes\n",
    "for i in range(len(dataframe_3_trange)):\n",
    "    # Apply the filter_dataframe function\n",
    "    dataframe_3_trange[i] = filter_dataframe(dataframe_3_trange[i])\n",
    "\n",
    "    # Apply the reshape_dataframe function\n",
    "    dataframe_3_trange[i] = reshape_dataframe(dataframe_3_trange[i], value_column_name)\n"
   ]
  },
  {
   "cell_type": "code",
   "execution_count": 30,
   "metadata": {},
   "outputs": [],
   "source": [
    "non_empty_trange_dfs_s3= delete_empty_dataframes(dataframe_3_trange)"
   ]
  },
  {
   "cell_type": "code",
   "execution_count": 33,
   "metadata": {},
   "outputs": [],
   "source": [
    "# Iterate over the merged dataframes for saving\n",
    "for i, trange_df in enumerate(non_empty_trange_dfs_s3):\n",
    "    # Save the merged dataframe to a CSV file\n",
    "    csv_filename = f\"s3_{i+1}_trange.csv\"  # Naming based on position in the list\n",
    "    csv_filepath = os.path.join(\"C:/Users/14037/OneDrive - University of Calgary/Documents/ENCI_570/TM_PHES_code/S3/trange\", csv_filename)\n",
    "    trange_df.to_csv(csv_filepath, index=False)\n"
   ]
  },
  {
   "cell_type": "markdown",
   "metadata": {},
   "source": [
    "## S4"
   ]
  },
  {
   "cell_type": "code",
   "execution_count": 21,
   "metadata": {},
   "outputs": [],
   "source": [
    "s4_1_trange_df = pd.read_csv(s4_1_trange)\n",
    "s4_2_trange_df = pd.read_csv(s4_2_trange)\n",
    "s4_3_trange_df = pd.read_csv(s4_3_trange)\n",
    "s4_4_trange_df = pd.read_csv(s4_4_trange)\n",
    "s4_5_trange_df = pd.read_csv(s4_5_trange)\n",
    "s4_6_trange_df = pd.read_csv(s4_6_trange) \n",
    "s4_7_trange_df = pd.read_csv(s4_7_trange)\n",
    "s4_8_trange_df = pd.read_csv(s4_8_trange) \n",
    "s4_9_trange_df = pd.read_csv(s4_9_trange)\n",
    "s4_10_trange_df = pd.read_csv(s4_10_trange)\n",
    "s4_11_trange_df = pd.read_csv(s4_11_trange)\n",
    "s4_12_trange_df = pd.read_csv(s4_12_trange)\n",
    "s4_13_trange_df = pd.read_csv(s4_13_trange)\n",
    "s4_14_trange_df = pd.read_csv(s4_14_trange)\n",
    "s4_15_trange_df = pd.read_csv(s4_15_trange)\n",
    "s4_16_trange_df = pd.read_csv(s4_16_trange)\n",
    "s4_17_trange_df = pd.read_csv(s4_17_trange)\n",
    "s4_18_trange_df = pd.read_csv(s4_18_trange)\n",
    "s4_19_trange_df = pd.read_csv(s4_19_trange)\n",
    "s4_20_trange_df = pd.read_csv(s4_20_trange)\n",
    "s4_21_trange_df = pd.read_csv(s4_21_trange)\n",
    "s4_22_trange_df = pd.read_csv(s4_22_trange)\n",
    "s4_23_trange_df = pd.read_csv(s4_23_trange)\n",
    "s4_24_trange_df = pd.read_csv(s4_24_trange)\n",
    "s4_25_trange_df = pd.read_csv(s4_25_trange)\n",
    "s4_26_trange_df = pd.read_csv(s4_26_trange)\n",
    "s4_27_trange_df = pd.read_csv(s4_27_trange)\n",
    "s4_28_trange_df = pd.read_csv(s4_28_trange)\n",
    "s4_29_trange_df = pd.read_csv(s4_29_trange)\n",
    "s4_30_trange_df = pd.read_csv(s4_30_trange)\n",
    "s4_31_trange_df = pd.read_csv(s4_31_trange)\n",
    "s4_32_trange_df = pd.read_csv(s4_32_trange)\n",
    "s4_33_trange_df = pd.read_csv(s4_33_trange)\n",
    "s4_34_trange_df = pd.read_csv(s4_34_trange)\n",
    "s4_35_trange_df = pd.read_csv(s4_35_trange)\n",
    "s4_36_trange_df = pd.read_csv(s4_36_trange)\n",
    "s4_37_trange_df = pd.read_csv(s4_37_trange)\n",
    "s4_38_trange_df = pd.read_csv(s4_38_trange)\n",
    "s4_39_trange_df = pd.read_csv(s4_39_trange)\n",
    "s4_40_trange_df = pd.read_csv(s4_40_trange)\n"
   ]
  },
  {
   "cell_type": "code",
   "execution_count": 22,
   "metadata": {},
   "outputs": [],
   "source": [
    "dataframe_4_trange = [\n",
    "    s4_1_trange_df, s4_2_trange_df, s4_3_trange_df, s4_4_trange_df, s4_5_trange_df,\n",
    "    s4_6_trange_df, s4_7_trange_df, s4_8_trange_df, s4_9_trange_df, s4_10_trange_df,\n",
    "    s4_11_trange_df, s4_12_trange_df, s4_13_trange_df, s4_14_trange_df, s4_15_trange_df,\n",
    "    s4_16_trange_df, s4_17_trange_df, s4_18_trange_df, s4_19_trange_df, s4_20_trange_df,\n",
    "    s4_21_trange_df, s4_22_trange_df, s4_23_trange_df, s4_24_trange_df, s4_25_trange_df,\n",
    "    s4_26_trange_df, s4_27_trange_df, s4_28_trange_df, s4_29_trange_df, s4_30_trange_df,\n",
    "    s4_31_trange_df, s4_32_trange_df, s4_33_trange_df, s4_34_trange_df, s4_35_trange_df,\n",
    "    s4_36_trange_df, s4_37_trange_df, s4_38_trange_df, s4_39_trange_df, s4_40_trange_df\n",
    "]\n",
    "# Specify the value column name\n",
    "value_column_name = 'trange'  \n",
    "\n",
    "# Iterate over the list of dataframes\n",
    "for i in range(len(dataframe_4_trange)):\n",
    "    # Apply the filter_dataframe function\n",
    "    dataframe_4_trange[i] = filter_dataframe(dataframe_4_trange[i])\n",
    "\n",
    "    # Apply the reshape_dataframe function\n",
    "    dataframe_4_trange[i] = reshape_dataframe(dataframe_4_trange[i], value_column_name)\n"
   ]
  },
  {
   "cell_type": "code",
   "execution_count": 35,
   "metadata": {},
   "outputs": [],
   "source": [
    "non_empty_trange_dfs_s4= delete_empty_dataframes(dataframe_4_trange)"
   ]
  },
  {
   "cell_type": "code",
   "execution_count": 36,
   "metadata": {},
   "outputs": [],
   "source": [
    "# Iterate over the merged dataframes for saving\n",
    "for i, trange_df in enumerate(non_empty_trange_dfs_s4):\n",
    "    # Save the merged dataframe to a CSV file\n",
    "    csv_filename = f\"s4_{i+1}_trange.csv\"  # Naming based on position in the list\n",
    "    csv_filepath = os.path.join(\"C:/Users/14037/OneDrive - University of Calgary/Documents/ENCI_570/TM_PHES_code/S4/trange\", csv_filename)\n",
    "    trange_df.to_csv(csv_filepath, index=False)\n"
   ]
  },
  {
   "cell_type": "code",
   "execution_count": null,
   "metadata": {},
   "outputs": [],
   "source": []
  }
 ],
 "metadata": {
  "kernelspec": {
   "display_name": "TM_PHES",
   "language": "python",
   "name": "python3"
  },
  "language_info": {
   "codemirror_mode": {
    "name": "ipython",
    "version": 3
   },
   "file_extension": ".py",
   "mimetype": "text/x-python",
   "name": "python",
   "nbconvert_exporter": "python",
   "pygments_lexer": "ipython3",
   "version": "3.12.0"
  }
 },
 "nbformat": 4,
 "nbformat_minor": 2
}
