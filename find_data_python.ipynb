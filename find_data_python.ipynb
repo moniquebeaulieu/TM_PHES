{
 "cells": [
  {
   "cell_type": "code",
   "execution_count": null,
   "metadata": {},
   "outputs": [],
   "source": [
    "from weathercan import stations_search, weather_dl\n",
    "import geopandas as gpd\n",
    "import matplotlib.pyplot as plt\n",
    "\n",
    "# Define the GPS coordinates for the location of interest\n",
    "latitude = 49.57\n",
    "longitude = -114.70\n",
    "\n",
    "# Filter stations by proximity\n",
    "nearby_stations = stations_search(coords=[latitude, longitude], dist=25, interval=\"day\")\n",
    "\n",
    "# Print nearby stations\n",
    "print(nearby_stations)\n",
    "\n",
    "# Extract station names from the nearby_stations data\n",
    "station_ids = nearby_stations['station_id'].tolist()  # or list the specific stations: station_ids = [000, 111, 222]\n",
    "\n",
    "# View the list of station ids\n",
    "print(station_ids)\n",
    "\n",
    "# Create weather data frames based on station ids we found nearby\n",
    "weather = weather_dl(station_ids=station_ids, start='1999-01-01', end='2023-12-01')\n",
    "print(weather)\n"
   ]
  },
  {
   "cell_type": "code",
   "execution_count": null,
   "metadata": {},
   "outputs": [],
   "source": []
  }
 ],
 "metadata": {
  "language_info": {
   "name": "python"
  }
 },
 "nbformat": 4,
 "nbformat_minor": 2
}
