{
 "cells": [
  {
   "cell_type": "markdown",
   "metadata": {},
   "source": [
    "# EvapoTranspiration Using Pennmans Formula on - Gridded Data EMDA\n",
    "## Ensemble of Meterological Dataset for North America \n",
    "### using probabilistc methods to estimate the uncertainty in spatial fields\n",
    "https://essd.copernicus.org/articles/13/3337/2021/"
   ]
  },
  {
   "cell_type": "markdown",
   "metadata": {},
   "source": [
    "*Each scenario represents a predicted socio-economic status and the radiative energy that the globe will reach by the end of the century (4 socio-economic scenarios paired with radiative force we are producing (KJ/m2)).  **SSP1-2.6** = assumes reduced emissions, **SSP2-4.5** = assumes the same trend of emissions as historical, **SSP3-7.0** = medium to high emissions scenario, **SSP5-8.5**=optimal for economic development but with high emissions.*"
   ]
  },
  {
   "cell_type": "markdown",
   "metadata": {},
   "source": [
    "![Penman Formula](penman.jpg)\n"
   ]
  },
  {
   "cell_type": "markdown",
   "metadata": {},
   "source": [
    "# Install Libraries"
   ]
  },
  {
   "cell_type": "code",
   "execution_count": 78,
   "metadata": {},
   "outputs": [],
   "source": [
    "import numpy as np\n",
    "import pandas as pd\n",
    "import seaborn as sns\n",
    "import matplotlib.pyplot as plt\n",
    "from datetime import datetime, timedelta\n",
    "from scipy.stats import linregress\n",
    "from itertools import combinations\n",
    "import math\n",
    "from matplotlib.dates import MonthLocator, DateFormatter\n",
    "import requests\n",
    "from io import StringIO\n",
    "import os"
   ]
  },
  {
   "cell_type": "markdown",
   "metadata": {},
   "source": [
    "# Hard Coded Variables"
   ]
  },
  {
   "cell_type": "markdown",
   "metadata": {},
   "source": [
    "## Observed"
   ]
  },
  {
   "cell_type": "code",
   "execution_count": 79,
   "metadata": {},
   "outputs": [],
   "source": [
    "observed_folder_t_p = 'C:/Users/14037/OneDrive - University of Calgary/Documents/ENCI_570/TM_PHES_code/Observed'\n",
    "observed_folder_trange = 'C:/Users/14037/OneDrive - University of Calgary/Documents/ENCI_570/TM_PHES_code/Observed/trange'"
   ]
  },
  {
   "cell_type": "markdown",
   "metadata": {},
   "source": [
    "## S1"
   ]
  },
  {
   "cell_type": "code",
   "execution_count": 80,
   "metadata": {},
   "outputs": [],
   "source": [
    "s1_folder_t_p = 'C:/Users/14037/OneDrive - University of Calgary/Documents/ENCI_570/TM_PHES_code/S1'\n",
    "s1_folder_trange = 'C:/Users/14037/OneDrive - University of Calgary/Documents/ENCI_570/TM_PHES_code/S1/trange'"
   ]
  },
  {
   "cell_type": "markdown",
   "metadata": {},
   "source": [
    "## S2"
   ]
  },
  {
   "cell_type": "code",
   "execution_count": 81,
   "metadata": {},
   "outputs": [],
   "source": [
    "s2_folder_t_p = 'C:/Users/14037/OneDrive - University of Calgary/Documents/ENCI_570/TM_PHES_code/S2'\n",
    "s2_folder_trange = 'C:/Users/14037/OneDrive - University of Calgary/Documents/ENCI_570/TM_PHES_code/S2/trange'"
   ]
  },
  {
   "cell_type": "markdown",
   "metadata": {},
   "source": [
    "## S3"
   ]
  },
  {
   "cell_type": "code",
   "execution_count": 82,
   "metadata": {},
   "outputs": [],
   "source": [
    "s3_folder_t_p = 'C:/Users/14037/OneDrive - University of Calgary/Documents/ENCI_570/TM_PHES_code/S3'\n",
    "s3_folder_trange = 'C:/Users/14037/OneDrive - University of Calgary/Documents/ENCI_570/TM_PHES_code/S3/trange'"
   ]
  },
  {
   "cell_type": "markdown",
   "metadata": {},
   "source": [
    "## S4"
   ]
  },
  {
   "cell_type": "code",
   "execution_count": 83,
   "metadata": {},
   "outputs": [],
   "source": [
    "s4_folder_t_p = 'C:/Users/14037/OneDrive - University of Calgary/Documents/ENCI_570/TM_PHES_code/S4'\n",
    "s4_folder_trange = 'C:/Users/14037/OneDrive - University of Calgary/Documents/ENCI_570/TM_PHES_code/S4/trange'"
   ]
  },
  {
   "cell_type": "markdown",
   "metadata": {},
   "source": [
    "# Utility Functions"
   ]
  },
  {
   "cell_type": "code",
   "execution_count": 84,
   "metadata": {},
   "outputs": [],
   "source": [
    "def read_csv_files_in_folder(folder_path):\n",
    "    dataframes = []\n",
    "    \n",
    "    files = sorted(os.listdir(folder_path))  # Sort files alphabetically\n",
    "    for file in files:\n",
    "        if file.endswith(\".csv\"):\n",
    "            file_path = os.path.join(folder_path, file)\n",
    "            df = pd.read_csv(file_path)\n",
    "            dataframes.append(df)\n",
    "    \n",
    "    return dataframes\n"
   ]
  },
  {
   "cell_type": "code",
   "execution_count": 85,
   "metadata": {},
   "outputs": [],
   "source": [
    "def merge_dataframes(df_t_p_list, df_f_list):\n",
    "    \"\"\"\n",
    "    Merge two lists of DataFrames based on the 'Date' column.\n",
    "\n",
    "    Parameters:\n",
    "    - df_t_p_list: List of DataFrames with 'Date', 'tmean', and 'precip' columns, sorted by 'Date'\n",
    "    - df_f_list: List of DataFrames with 'Date' and 'trange' columns, sorted by 'Date'\n",
    "\n",
    "    Returns:\n",
    "    - Merged list of DataFrames on 'Date' column\n",
    "    \"\"\"\n",
    "    merged_dfs = []\n",
    "\n",
    "    # Ensure the length of both lists is the same\n",
    "    assert len(df_t_p_list) == len(df_f_list), \"The lengths of input lists must be the same.\"\n",
    "\n",
    "    for df_t_p, df_f in zip(df_t_p_list, df_f_list):\n",
    "        # Convert 'Date' column to datetime if not already\n",
    "        if not pd.api.types.is_datetime64_any_dtype(df_t_p['Date']):\n",
    "            df_t_p['Date'] = pd.to_datetime(df_t_p['Date'])\n",
    "\n",
    "        if not pd.api.types.is_datetime64_any_dtype(df_f['Date']):\n",
    "            df_f['Date'] = pd.to_datetime(df_f['Date'])\n",
    "\n",
    "        merged_df = pd.merge(df_t_p, df_f, on='Date', how='outer')\n",
    "        merged_dfs.append(merged_df)\n",
    "\n",
    "    return merged_dfs"
   ]
  },
  {
   "cell_type": "code",
   "execution_count": 120,
   "metadata": {},
   "outputs": [],
   "source": [
    "def calculate_and_add_column(df_list):\n",
    "    \"\"\"\n",
    "    Calculate a new column based on the specified formula and add it to each DataFrame in the list.\n",
    "\n",
    "    Parameters:\n",
    "    - df_list: List of DataFrames\n",
    "\n",
    "    Returns:\n",
    "    - None (modifies the DataFrames in place)\n",
    "    \"\"\"\n",
    "    for df in df_list:\n",
    "        # Extract year, month, and day information\n",
    "        df['Year'] = df['Date'].dt.year\n",
    "        df['Month'] = df['Date'].dt.month\n",
    "        df['Day'] = df['Date'].dt.day\n",
    "\n",
    "        elev = 1426  # elevation meters\n",
    "        lat = 49.575 # latitude deg\n",
    "\n",
    "        # Calculate tmean_tdew\n",
    "        df['rann'] = df.groupby('Month')['trange'].transform('mean')\n",
    "        df['tmean_tdew'] = (\n",
    "            0.0023 * elev + 0.37 * df['tmean'] + 0.53 * df['trange'] + 0.35 * df['rann'] - 10.9\n",
    "        )\n",
    "\n",
    "        # Calculate Evaporation\n",
    "\n",
    "        df['evaporation'] = (\n",
    "            (524 * (df['tmean'] + 0.006 * elev) / (100 - lat) + 15 * df['tmean_tdew']) / (80 - df['tmean'])\n",
    "        ).where(df['tmean'] >= 0, other=0)  # Applying condition for tmean < 0\n",
    "\n",
    "        # Drop the intermediate columns\n",
    "        df.drop(['Year', 'Month', 'Day', 'rann', 'tmean_tdew'], axis=1, inplace=True, errors='ignore') \n"
   ]
  },
  {
   "cell_type": "markdown",
   "metadata": {},
   "source": [
    "# Data Engineering"
   ]
  },
  {
   "cell_type": "markdown",
   "metadata": {},
   "source": [
    "## Observed"
   ]
  },
  {
   "cell_type": "code",
   "execution_count": 88,
   "metadata": {},
   "outputs": [],
   "source": [
    "observed_t_p = read_csv_files_in_folder(observed_folder_t_p)\n",
    "observed_trange = read_csv_files_in_folder(observed_folder_trange)"
   ]
  },
  {
   "cell_type": "code",
   "execution_count": 89,
   "metadata": {},
   "outputs": [],
   "source": [
    "observed_dfs = merge_dataframes(observed_t_p, observed_trange)"
   ]
  },
  {
   "cell_type": "code",
   "execution_count": 90,
   "metadata": {},
   "outputs": [
    {
     "data": {
      "text/html": [
       "<div>\n",
       "<style scoped>\n",
       "    .dataframe tbody tr th:only-of-type {\n",
       "        vertical-align: middle;\n",
       "    }\n",
       "\n",
       "    .dataframe tbody tr th {\n",
       "        vertical-align: top;\n",
       "    }\n",
       "\n",
       "    .dataframe thead th {\n",
       "        text-align: right;\n",
       "    }\n",
       "</style>\n",
       "<table border=\"1\" class=\"dataframe\">\n",
       "  <thead>\n",
       "    <tr style=\"text-align: right;\">\n",
       "      <th></th>\n",
       "      <th>Date</th>\n",
       "      <th>tmean</th>\n",
       "      <th>precip</th>\n",
       "      <th>trange</th>\n",
       "    </tr>\n",
       "  </thead>\n",
       "  <tbody>\n",
       "    <tr>\n",
       "      <th>0</th>\n",
       "      <td>1979-01-01</td>\n",
       "      <td>-24.9175</td>\n",
       "      <td>2.77110</td>\n",
       "      <td>12.577</td>\n",
       "    </tr>\n",
       "    <tr>\n",
       "      <th>1</th>\n",
       "      <td>1979-01-02</td>\n",
       "      <td>-21.8485</td>\n",
       "      <td>0.70797</td>\n",
       "      <td>9.769</td>\n",
       "    </tr>\n",
       "  </tbody>\n",
       "</table>\n",
       "</div>"
      ],
      "text/plain": [
       "        Date    tmean   precip  trange\n",
       "0 1979-01-01 -24.9175  2.77110  12.577\n",
       "1 1979-01-02 -21.8485  0.70797   9.769"
      ]
     },
     "execution_count": 90,
     "metadata": {},
     "output_type": "execute_result"
    }
   ],
   "source": [
    "observed_dfs[0].head(2)"
   ]
  },
  {
   "cell_type": "markdown",
   "metadata": {},
   "source": [
    "## S1"
   ]
  },
  {
   "cell_type": "code",
   "execution_count": 91,
   "metadata": {},
   "outputs": [],
   "source": [
    "s1_t_p = read_csv_files_in_folder(s1_folder_t_p)\n",
    "s1_trange = read_csv_files_in_folder(s1_folder_trange)"
   ]
  },
  {
   "cell_type": "code",
   "execution_count": 92,
   "metadata": {},
   "outputs": [],
   "source": [
    "s1_dfs = merge_dataframes(s1_t_p, s1_trange)"
   ]
  },
  {
   "cell_type": "markdown",
   "metadata": {},
   "source": [
    "## S2"
   ]
  },
  {
   "cell_type": "code",
   "execution_count": 93,
   "metadata": {},
   "outputs": [],
   "source": [
    "s2_t_p = read_csv_files_in_folder(s2_folder_t_p)\n",
    "s2_trange = read_csv_files_in_folder(s2_folder_trange)"
   ]
  },
  {
   "cell_type": "code",
   "execution_count": 94,
   "metadata": {},
   "outputs": [],
   "source": [
    "s2_dfs = merge_dataframes(s2_t_p, s2_trange)"
   ]
  },
  {
   "cell_type": "markdown",
   "metadata": {},
   "source": [
    "## S3"
   ]
  },
  {
   "cell_type": "code",
   "execution_count": 95,
   "metadata": {},
   "outputs": [],
   "source": [
    "s3_t_p = read_csv_files_in_folder(s3_folder_t_p)\n",
    "s3_trange = read_csv_files_in_folder(s3_folder_trange)"
   ]
  },
  {
   "cell_type": "code",
   "execution_count": 96,
   "metadata": {},
   "outputs": [],
   "source": [
    "s3_dfs = merge_dataframes(s3_t_p, s3_trange)"
   ]
  },
  {
   "cell_type": "markdown",
   "metadata": {},
   "source": [
    "## S4"
   ]
  },
  {
   "cell_type": "code",
   "execution_count": 97,
   "metadata": {},
   "outputs": [],
   "source": [
    "s4_t_p = read_csv_files_in_folder(s4_folder_t_p)\n",
    "s4_trange = read_csv_files_in_folder(s4_folder_trange)"
   ]
  },
  {
   "cell_type": "code",
   "execution_count": 98,
   "metadata": {},
   "outputs": [],
   "source": [
    "s4_dfs = merge_dataframes(s4_t_p, s4_trange)"
   ]
  },
  {
   "cell_type": "code",
   "execution_count": 99,
   "metadata": {},
   "outputs": [
    {
     "data": {
      "text/html": [
       "<div>\n",
       "<style scoped>\n",
       "    .dataframe tbody tr th:only-of-type {\n",
       "        vertical-align: middle;\n",
       "    }\n",
       "\n",
       "    .dataframe tbody tr th {\n",
       "        vertical-align: top;\n",
       "    }\n",
       "\n",
       "    .dataframe thead th {\n",
       "        text-align: right;\n",
       "    }\n",
       "</style>\n",
       "<table border=\"1\" class=\"dataframe\">\n",
       "  <thead>\n",
       "    <tr style=\"text-align: right;\">\n",
       "      <th></th>\n",
       "      <th>Date</th>\n",
       "      <th>precip</th>\n",
       "      <th>tmean</th>\n",
       "      <th>trange</th>\n",
       "    </tr>\n",
       "  </thead>\n",
       "  <tbody>\n",
       "    <tr>\n",
       "      <th>0</th>\n",
       "      <td>2015-01-01</td>\n",
       "      <td>6.514761</td>\n",
       "      <td>1.966477</td>\n",
       "      <td>4.000172</td>\n",
       "    </tr>\n",
       "    <tr>\n",
       "      <th>1</th>\n",
       "      <td>2015-01-02</td>\n",
       "      <td>8.052436</td>\n",
       "      <td>2.692204</td>\n",
       "      <td>4.202973</td>\n",
       "    </tr>\n",
       "    <tr>\n",
       "      <th>2</th>\n",
       "      <td>2015-01-03</td>\n",
       "      <td>1.416353</td>\n",
       "      <td>0.828085</td>\n",
       "      <td>3.932778</td>\n",
       "    </tr>\n",
       "    <tr>\n",
       "      <th>3</th>\n",
       "      <td>2015-01-04</td>\n",
       "      <td>23.150974</td>\n",
       "      <td>2.364892</td>\n",
       "      <td>5.937545</td>\n",
       "    </tr>\n",
       "    <tr>\n",
       "      <th>4</th>\n",
       "      <td>2015-01-05</td>\n",
       "      <td>5.724569</td>\n",
       "      <td>-1.390870</td>\n",
       "      <td>6.359421</td>\n",
       "    </tr>\n",
       "  </tbody>\n",
       "</table>\n",
       "</div>"
      ],
      "text/plain": [
       "        Date     precip     tmean    trange\n",
       "0 2015-01-01   6.514761  1.966477  4.000172\n",
       "1 2015-01-02   8.052436  2.692204  4.202973\n",
       "2 2015-01-03   1.416353  0.828085  3.932778\n",
       "3 2015-01-04  23.150974  2.364892  5.937545\n",
       "4 2015-01-05   5.724569 -1.390870  6.359421"
      ]
     },
     "execution_count": 99,
     "metadata": {},
     "output_type": "execute_result"
    }
   ],
   "source": [
    "s4_dfs[39].head()"
   ]
  },
  {
   "cell_type": "markdown",
   "metadata": {},
   "source": [
    "# Calculations"
   ]
  },
  {
   "cell_type": "markdown",
   "metadata": {},
   "source": [
    "## Observed"
   ]
  },
  {
   "cell_type": "code",
   "execution_count": 100,
   "metadata": {},
   "outputs": [],
   "source": [
    "calculate_and_add_column(observed_dfs)"
   ]
  },
  {
   "cell_type": "code",
   "execution_count": 101,
   "metadata": {},
   "outputs": [
    {
     "data": {
      "text/html": [
       "<div>\n",
       "<style scoped>\n",
       "    .dataframe tbody tr th:only-of-type {\n",
       "        vertical-align: middle;\n",
       "    }\n",
       "\n",
       "    .dataframe tbody tr th {\n",
       "        vertical-align: top;\n",
       "    }\n",
       "\n",
       "    .dataframe thead th {\n",
       "        text-align: right;\n",
       "    }\n",
       "</style>\n",
       "<table border=\"1\" class=\"dataframe\">\n",
       "  <thead>\n",
       "    <tr style=\"text-align: right;\">\n",
       "      <th></th>\n",
       "      <th>Date</th>\n",
       "      <th>tmean</th>\n",
       "      <th>precip</th>\n",
       "      <th>trange</th>\n",
       "      <th>evaporation</th>\n",
       "    </tr>\n",
       "  </thead>\n",
       "  <tbody>\n",
       "    <tr>\n",
       "      <th>0</th>\n",
       "      <td>1979-01-01</td>\n",
       "      <td>-24.9175</td>\n",
       "      <td>2.771100</td>\n",
       "      <td>12.577</td>\n",
       "      <td>0.0</td>\n",
       "    </tr>\n",
       "    <tr>\n",
       "      <th>1</th>\n",
       "      <td>1979-01-02</td>\n",
       "      <td>-21.8485</td>\n",
       "      <td>0.707970</td>\n",
       "      <td>9.769</td>\n",
       "      <td>0.0</td>\n",
       "    </tr>\n",
       "    <tr>\n",
       "      <th>2</th>\n",
       "      <td>1979-01-03</td>\n",
       "      <td>-22.2550</td>\n",
       "      <td>0.117580</td>\n",
       "      <td>9.818</td>\n",
       "      <td>0.0</td>\n",
       "    </tr>\n",
       "    <tr>\n",
       "      <th>3</th>\n",
       "      <td>1979-01-04</td>\n",
       "      <td>-23.5575</td>\n",
       "      <td>0.000000</td>\n",
       "      <td>12.729</td>\n",
       "      <td>0.0</td>\n",
       "    </tr>\n",
       "    <tr>\n",
       "      <th>4</th>\n",
       "      <td>1979-01-05</td>\n",
       "      <td>-21.4305</td>\n",
       "      <td>0.000486</td>\n",
       "      <td>13.063</td>\n",
       "      <td>0.0</td>\n",
       "    </tr>\n",
       "  </tbody>\n",
       "</table>\n",
       "</div>"
      ],
      "text/plain": [
       "        Date    tmean    precip  trange  evaporation\n",
       "0 1979-01-01 -24.9175  2.771100  12.577          0.0\n",
       "1 1979-01-02 -21.8485  0.707970   9.769          0.0\n",
       "2 1979-01-03 -22.2550  0.117580   9.818          0.0\n",
       "3 1979-01-04 -23.5575  0.000000  12.729          0.0\n",
       "4 1979-01-05 -21.4305  0.000486  13.063          0.0"
      ]
     },
     "execution_count": 101,
     "metadata": {},
     "output_type": "execute_result"
    }
   ],
   "source": [
    "observed_dfs[0].head()"
   ]
  },
  {
   "cell_type": "code",
   "execution_count": 102,
   "metadata": {},
   "outputs": [],
   "source": [
    "# distinct_values = observed_dfs[0]['rann'].unique()\n",
    "# print(distinct_values)"
   ]
  },
  {
   "cell_type": "code",
   "execution_count": 103,
   "metadata": {},
   "outputs": [],
   "source": [
    "# mean_evaporation_by_month = observed_dfs[0].groupby('Month')['evaporation'].mean()\n",
    "# print(mean_evaporation_by_month)"
   ]
  },
  {
   "cell_type": "code",
   "execution_count": 104,
   "metadata": {},
   "outputs": [],
   "source": [
    "# days_in_month = observed_dfs[0].groupby('Month')['Day'].nunique()\n",
    "\n",
    "# mean_evaporation_by_month = observed_dfs[0].groupby('Month')['evaporation'].mean()\n",
    "\n",
    "# total_evaporation_by_month = mean_evaporation_by_month * days_in_month\n",
    "\n",
    "# print(total_evaporation_by_month)"
   ]
  },
  {
   "cell_type": "code",
   "execution_count": 105,
   "metadata": {},
   "outputs": [],
   "source": [
    "# total_evaporation_sum = total_evaporation_by_month.sum()\n",
    "\n",
    "# print(\"Total evaporation:\", total_evaporation_sum)"
   ]
  },
  {
   "cell_type": "code",
   "execution_count": 106,
   "metadata": {},
   "outputs": [],
   "source": [
    "# Iterate over the merged dataframes for saving\n",
    "for i, df in enumerate(observed_dfs):\n",
    "    # Save the merged dataframe to a CSV file\n",
    "    csv_filename = f\"observed_t_p_e.csv\"  # Naming based on position in the list\n",
    "    csv_filepath = os.path.join(\"C:/Users/14037/OneDrive - University of Calgary/Documents/ENCI_570/TM_PHES_code/observed/penman\", csv_filename)\n",
    "    df.to_csv(csv_filepath, index=False)\n"
   ]
  },
  {
   "cell_type": "markdown",
   "metadata": {},
   "source": [
    "## **Scenario 1:** SSP1-2.6 = *assumes reduced emissions*"
   ]
  },
  {
   "cell_type": "code",
   "execution_count": 107,
   "metadata": {},
   "outputs": [],
   "source": [
    "calculate_and_add_column(s1_dfs)"
   ]
  },
  {
   "cell_type": "code",
   "execution_count": 108,
   "metadata": {},
   "outputs": [
    {
     "data": {
      "text/html": [
       "<div>\n",
       "<style scoped>\n",
       "    .dataframe tbody tr th:only-of-type {\n",
       "        vertical-align: middle;\n",
       "    }\n",
       "\n",
       "    .dataframe tbody tr th {\n",
       "        vertical-align: top;\n",
       "    }\n",
       "\n",
       "    .dataframe thead th {\n",
       "        text-align: right;\n",
       "    }\n",
       "</style>\n",
       "<table border=\"1\" class=\"dataframe\">\n",
       "  <thead>\n",
       "    <tr style=\"text-align: right;\">\n",
       "      <th></th>\n",
       "      <th>Date</th>\n",
       "      <th>precip</th>\n",
       "      <th>tmean</th>\n",
       "      <th>trange</th>\n",
       "      <th>evaporation</th>\n",
       "    </tr>\n",
       "  </thead>\n",
       "  <tbody>\n",
       "    <tr>\n",
       "      <th>0</th>\n",
       "      <td>2015-01-01</td>\n",
       "      <td>12.284951</td>\n",
       "      <td>-4.077306</td>\n",
       "      <td>2.030853</td>\n",
       "      <td>0.0</td>\n",
       "    </tr>\n",
       "    <tr>\n",
       "      <th>1</th>\n",
       "      <td>2015-01-02</td>\n",
       "      <td>2.865495</td>\n",
       "      <td>-3.112623</td>\n",
       "      <td>0.101487</td>\n",
       "      <td>0.0</td>\n",
       "    </tr>\n",
       "    <tr>\n",
       "      <th>2</th>\n",
       "      <td>2015-01-03</td>\n",
       "      <td>6.831872</td>\n",
       "      <td>-0.506162</td>\n",
       "      <td>5.111435</td>\n",
       "      <td>0.0</td>\n",
       "    </tr>\n",
       "    <tr>\n",
       "      <th>3</th>\n",
       "      <td>2015-01-04</td>\n",
       "      <td>1.807658</td>\n",
       "      <td>-5.040199</td>\n",
       "      <td>10.397952</td>\n",
       "      <td>0.0</td>\n",
       "    </tr>\n",
       "    <tr>\n",
       "      <th>4</th>\n",
       "      <td>2015-01-05</td>\n",
       "      <td>1.872311</td>\n",
       "      <td>-3.142410</td>\n",
       "      <td>4.184681</td>\n",
       "      <td>0.0</td>\n",
       "    </tr>\n",
       "  </tbody>\n",
       "</table>\n",
       "</div>"
      ],
      "text/plain": [
       "        Date     precip     tmean     trange  evaporation\n",
       "0 2015-01-01  12.284951 -4.077306   2.030853          0.0\n",
       "1 2015-01-02   2.865495 -3.112623   0.101487          0.0\n",
       "2 2015-01-03   6.831872 -0.506162   5.111435          0.0\n",
       "3 2015-01-04   1.807658 -5.040199  10.397952          0.0\n",
       "4 2015-01-05   1.872311 -3.142410   4.184681          0.0"
      ]
     },
     "execution_count": 108,
     "metadata": {},
     "output_type": "execute_result"
    }
   ],
   "source": [
    "s1_dfs[0].head()"
   ]
  },
  {
   "cell_type": "code",
   "execution_count": 109,
   "metadata": {},
   "outputs": [],
   "source": [
    "# Iterate over the merged dataframes for saving\n",
    "for i, df in enumerate(s1_dfs):\n",
    "    # Save the merged dataframe to a CSV file\n",
    "    csv_filename = f\"s1_{i+1}_t_p_e.csv\"  # Naming based on position in the list\n",
    "    csv_filepath = os.path.join(\"C:/Users/14037/OneDrive - University of Calgary/Documents/ENCI_570/TM_PHES_code/S1/penman\", csv_filename)\n",
    "    df.to_csv(csv_filepath, index=False)\n"
   ]
  },
  {
   "cell_type": "markdown",
   "metadata": {},
   "source": [
    "## **Scenario 2:** SSP2-4.5 = *assumes the same trend of emissions as historical*"
   ]
  },
  {
   "cell_type": "code",
   "execution_count": 110,
   "metadata": {},
   "outputs": [],
   "source": [
    "calculate_and_add_column(s2_dfs)"
   ]
  },
  {
   "cell_type": "code",
   "execution_count": 111,
   "metadata": {},
   "outputs": [
    {
     "data": {
      "text/html": [
       "<div>\n",
       "<style scoped>\n",
       "    .dataframe tbody tr th:only-of-type {\n",
       "        vertical-align: middle;\n",
       "    }\n",
       "\n",
       "    .dataframe tbody tr th {\n",
       "        vertical-align: top;\n",
       "    }\n",
       "\n",
       "    .dataframe thead th {\n",
       "        text-align: right;\n",
       "    }\n",
       "</style>\n",
       "<table border=\"1\" class=\"dataframe\">\n",
       "  <thead>\n",
       "    <tr style=\"text-align: right;\">\n",
       "      <th></th>\n",
       "      <th>Date</th>\n",
       "      <th>precip</th>\n",
       "      <th>tmean</th>\n",
       "      <th>trange</th>\n",
       "      <th>evaporation</th>\n",
       "    </tr>\n",
       "  </thead>\n",
       "  <tbody>\n",
       "    <tr>\n",
       "      <th>0</th>\n",
       "      <td>2015-01-01</td>\n",
       "      <td>5.913979</td>\n",
       "      <td>1.064339</td>\n",
       "      <td>3.946321</td>\n",
       "      <td>0.838265</td>\n",
       "    </tr>\n",
       "    <tr>\n",
       "      <th>1</th>\n",
       "      <td>2015-01-02</td>\n",
       "      <td>7.351886</td>\n",
       "      <td>1.542983</td>\n",
       "      <td>4.307355</td>\n",
       "      <td>0.977218</td>\n",
       "    </tr>\n",
       "    <tr>\n",
       "      <th>2</th>\n",
       "      <td>2015-01-03</td>\n",
       "      <td>1.266364</td>\n",
       "      <td>-0.072935</td>\n",
       "      <td>3.493105</td>\n",
       "      <td>0.000000</td>\n",
       "    </tr>\n",
       "    <tr>\n",
       "      <th>3</th>\n",
       "      <td>2015-01-04</td>\n",
       "      <td>19.761959</td>\n",
       "      <td>1.357572</td>\n",
       "      <td>6.058133</td>\n",
       "      <td>1.114316</td>\n",
       "    </tr>\n",
       "    <tr>\n",
       "      <th>4</th>\n",
       "      <td>2015-01-05</td>\n",
       "      <td>5.841811</td>\n",
       "      <td>-3.309855</td>\n",
       "      <td>7.554837</td>\n",
       "      <td>0.000000</td>\n",
       "    </tr>\n",
       "  </tbody>\n",
       "</table>\n",
       "</div>"
      ],
      "text/plain": [
       "        Date     precip     tmean    trange  evaporation\n",
       "0 2015-01-01   5.913979  1.064339  3.946321     0.838265\n",
       "1 2015-01-02   7.351886  1.542983  4.307355     0.977218\n",
       "2 2015-01-03   1.266364 -0.072935  3.493105     0.000000\n",
       "3 2015-01-04  19.761959  1.357572  6.058133     1.114316\n",
       "4 2015-01-05   5.841811 -3.309855  7.554837     0.000000"
      ]
     },
     "execution_count": 111,
     "metadata": {},
     "output_type": "execute_result"
    }
   ],
   "source": [
    "s2_dfs[0].head()"
   ]
  },
  {
   "cell_type": "code",
   "execution_count": 112,
   "metadata": {},
   "outputs": [],
   "source": [
    "# Iterate over the merged dataframes for saving\n",
    "for i, df in enumerate(s2_dfs):\n",
    "    # Save the merged dataframe to a CSV file\n",
    "    csv_filename = f\"s2_{i+1}_t_p_e.csv\"  # Naming based on position in the list\n",
    "    csv_filepath = os.path.join(\"C:/Users/14037/OneDrive - University of Calgary/Documents/ENCI_570/TM_PHES_code/S2/penman\", csv_filename)\n",
    "    df.to_csv(csv_filepath, index=False)\n"
   ]
  },
  {
   "cell_type": "markdown",
   "metadata": {},
   "source": [
    "## **Scenario 3:** SSP3-7.0 = *medium to high emissions scenario*"
   ]
  },
  {
   "cell_type": "code",
   "execution_count": 113,
   "metadata": {},
   "outputs": [],
   "source": [
    "calculate_and_add_column(s3_dfs)"
   ]
  },
  {
   "cell_type": "code",
   "execution_count": 114,
   "metadata": {},
   "outputs": [
    {
     "data": {
      "text/html": [
       "<div>\n",
       "<style scoped>\n",
       "    .dataframe tbody tr th:only-of-type {\n",
       "        vertical-align: middle;\n",
       "    }\n",
       "\n",
       "    .dataframe tbody tr th {\n",
       "        vertical-align: top;\n",
       "    }\n",
       "\n",
       "    .dataframe thead th {\n",
       "        text-align: right;\n",
       "    }\n",
       "</style>\n",
       "<table border=\"1\" class=\"dataframe\">\n",
       "  <thead>\n",
       "    <tr style=\"text-align: right;\">\n",
       "      <th></th>\n",
       "      <th>Date</th>\n",
       "      <th>precip</th>\n",
       "      <th>tmean</th>\n",
       "      <th>trange</th>\n",
       "      <th>evaporation</th>\n",
       "    </tr>\n",
       "  </thead>\n",
       "  <tbody>\n",
       "    <tr>\n",
       "      <th>0</th>\n",
       "      <td>2015-01-01</td>\n",
       "      <td>7.079445</td>\n",
       "      <td>1.407242</td>\n",
       "      <td>3.878722</td>\n",
       "      <td>0.888017</td>\n",
       "    </tr>\n",
       "    <tr>\n",
       "      <th>1</th>\n",
       "      <td>2015-01-02</td>\n",
       "      <td>8.912531</td>\n",
       "      <td>2.092265</td>\n",
       "      <td>3.747983</td>\n",
       "      <td>1.022655</td>\n",
       "    </tr>\n",
       "    <tr>\n",
       "      <th>2</th>\n",
       "      <td>2015-01-03</td>\n",
       "      <td>1.376515</td>\n",
       "      <td>-0.056117</td>\n",
       "      <td>3.577113</td>\n",
       "      <td>0.000000</td>\n",
       "    </tr>\n",
       "    <tr>\n",
       "      <th>3</th>\n",
       "      <td>2015-01-04</td>\n",
       "      <td>23.199167</td>\n",
       "      <td>1.494510</td>\n",
       "      <td>6.204350</td>\n",
       "      <td>1.142234</td>\n",
       "    </tr>\n",
       "    <tr>\n",
       "      <th>4</th>\n",
       "      <td>2015-01-05</td>\n",
       "      <td>7.392652</td>\n",
       "      <td>-1.238661</td>\n",
       "      <td>4.011037</td>\n",
       "      <td>0.000000</td>\n",
       "    </tr>\n",
       "  </tbody>\n",
       "</table>\n",
       "</div>"
      ],
      "text/plain": [
       "        Date     precip     tmean    trange  evaporation\n",
       "0 2015-01-01   7.079445  1.407242  3.878722     0.888017\n",
       "1 2015-01-02   8.912531  2.092265  3.747983     1.022655\n",
       "2 2015-01-03   1.376515 -0.056117  3.577113     0.000000\n",
       "3 2015-01-04  23.199167  1.494510  6.204350     1.142234\n",
       "4 2015-01-05   7.392652 -1.238661  4.011037     0.000000"
      ]
     },
     "execution_count": 114,
     "metadata": {},
     "output_type": "execute_result"
    }
   ],
   "source": [
    "s3_dfs[0].head()"
   ]
  },
  {
   "cell_type": "code",
   "execution_count": 115,
   "metadata": {},
   "outputs": [],
   "source": [
    "# Iterate over the merged dataframes for saving\n",
    "for i, df in enumerate(s3_dfs):\n",
    "    # Save the merged dataframe to a CSV file\n",
    "    csv_filename = f\"s3_{i+1}_t_p_e.csv\"  # Naming based on position in the list\n",
    "    csv_filepath = os.path.join(\"C:/Users/14037/OneDrive - University of Calgary/Documents/ENCI_570/TM_PHES_code/S3/penman\", csv_filename)\n",
    "    df.to_csv(csv_filepath, index=False)\n"
   ]
  },
  {
   "cell_type": "markdown",
   "metadata": {},
   "source": [
    "## **Scenario 4:** SSP5-8.5 = *optimal for economic development but with high emissions.*"
   ]
  },
  {
   "cell_type": "code",
   "execution_count": 121,
   "metadata": {},
   "outputs": [],
   "source": [
    "calculate_and_add_column(s4_dfs)"
   ]
  },
  {
   "cell_type": "code",
   "execution_count": 122,
   "metadata": {},
   "outputs": [
    {
     "data": {
      "text/html": [
       "<div>\n",
       "<style scoped>\n",
       "    .dataframe tbody tr th:only-of-type {\n",
       "        vertical-align: middle;\n",
       "    }\n",
       "\n",
       "    .dataframe tbody tr th {\n",
       "        vertical-align: top;\n",
       "    }\n",
       "\n",
       "    .dataframe thead th {\n",
       "        text-align: right;\n",
       "    }\n",
       "</style>\n",
       "<table border=\"1\" class=\"dataframe\">\n",
       "  <thead>\n",
       "    <tr style=\"text-align: right;\">\n",
       "      <th></th>\n",
       "      <th>Date</th>\n",
       "      <th>precip</th>\n",
       "      <th>tmean</th>\n",
       "      <th>trange</th>\n",
       "      <th>evaporation</th>\n",
       "      <th>Year</th>\n",
       "      <th>Month</th>\n",
       "      <th>Day</th>\n",
       "      <th>rann</th>\n",
       "      <th>tmean_tdew</th>\n",
       "    </tr>\n",
       "  </thead>\n",
       "  <tbody>\n",
       "    <tr>\n",
       "      <th>0</th>\n",
       "      <td>2015-01-01</td>\n",
       "      <td>6.129145</td>\n",
       "      <td>1.677566</td>\n",
       "      <td>3.966279</td>\n",
       "      <td>0.925677</td>\n",
       "      <td>2015</td>\n",
       "      <td>1</td>\n",
       "      <td>1</td>\n",
       "      <td>7.546294</td>\n",
       "      <td>-2.256170</td>\n",
       "    </tr>\n",
       "    <tr>\n",
       "      <th>1</th>\n",
       "      <td>2015-01-02</td>\n",
       "      <td>4.294818</td>\n",
       "      <td>-0.198543</td>\n",
       "      <td>5.185653</td>\n",
       "      <td>0.000000</td>\n",
       "      <td>2015</td>\n",
       "      <td>1</td>\n",
       "      <td>2</td>\n",
       "      <td>7.546294</td>\n",
       "      <td>-2.304062</td>\n",
       "    </tr>\n",
       "    <tr>\n",
       "      <th>2</th>\n",
       "      <td>2015-01-03</td>\n",
       "      <td>0.000000</td>\n",
       "      <td>-1.132881</td>\n",
       "      <td>4.745145</td>\n",
       "      <td>0.000000</td>\n",
       "      <td>2015</td>\n",
       "      <td>1</td>\n",
       "      <td>3</td>\n",
       "      <td>7.546294</td>\n",
       "      <td>-2.883236</td>\n",
       "    </tr>\n",
       "    <tr>\n",
       "      <th>3</th>\n",
       "      <td>2015-01-04</td>\n",
       "      <td>1.047620</td>\n",
       "      <td>-2.067218</td>\n",
       "      <td>4.304637</td>\n",
       "      <td>0.000000</td>\n",
       "      <td>2015</td>\n",
       "      <td>1</td>\n",
       "      <td>4</td>\n",
       "      <td>7.546294</td>\n",
       "      <td>-3.462410</td>\n",
       "    </tr>\n",
       "    <tr>\n",
       "      <th>4</th>\n",
       "      <td>2015-01-05</td>\n",
       "      <td>1.139335</td>\n",
       "      <td>-2.429765</td>\n",
       "      <td>5.007710</td>\n",
       "      <td>0.000000</td>\n",
       "      <td>2015</td>\n",
       "      <td>1</td>\n",
       "      <td>5</td>\n",
       "      <td>7.546294</td>\n",
       "      <td>-3.223924</td>\n",
       "    </tr>\n",
       "  </tbody>\n",
       "</table>\n",
       "</div>"
      ],
      "text/plain": [
       "        Date    precip     tmean    trange  evaporation  Year  Month  Day  \\\n",
       "0 2015-01-01  6.129145  1.677566  3.966279     0.925677  2015      1    1   \n",
       "1 2015-01-02  4.294818 -0.198543  5.185653     0.000000  2015      1    2   \n",
       "2 2015-01-03  0.000000 -1.132881  4.745145     0.000000  2015      1    3   \n",
       "3 2015-01-04  1.047620 -2.067218  4.304637     0.000000  2015      1    4   \n",
       "4 2015-01-05  1.139335 -2.429765  5.007710     0.000000  2015      1    5   \n",
       "\n",
       "       rann  tmean_tdew  \n",
       "0  7.546294   -2.256170  \n",
       "1  7.546294   -2.304062  \n",
       "2  7.546294   -2.883236  \n",
       "3  7.546294   -3.462410  \n",
       "4  7.546294   -3.223924  "
      ]
     },
     "execution_count": 122,
     "metadata": {},
     "output_type": "execute_result"
    }
   ],
   "source": [
    "s4_dfs[0].head()"
   ]
  },
  {
   "cell_type": "code",
   "execution_count": 123,
   "metadata": {},
   "outputs": [
    {
     "data": {
      "text/html": [
       "<div>\n",
       "<style scoped>\n",
       "    .dataframe tbody tr th:only-of-type {\n",
       "        vertical-align: middle;\n",
       "    }\n",
       "\n",
       "    .dataframe tbody tr th {\n",
       "        vertical-align: top;\n",
       "    }\n",
       "\n",
       "    .dataframe thead th {\n",
       "        text-align: right;\n",
       "    }\n",
       "</style>\n",
       "<table border=\"1\" class=\"dataframe\">\n",
       "  <thead>\n",
       "    <tr style=\"text-align: right;\">\n",
       "      <th></th>\n",
       "      <th>Date</th>\n",
       "      <th>precip</th>\n",
       "      <th>tmean</th>\n",
       "      <th>trange</th>\n",
       "      <th>evaporation</th>\n",
       "      <th>Year</th>\n",
       "      <th>Month</th>\n",
       "      <th>Day</th>\n",
       "      <th>rann</th>\n",
       "      <th>tmean_tdew</th>\n",
       "    </tr>\n",
       "  </thead>\n",
       "  <tbody>\n",
       "    <tr>\n",
       "      <th>0</th>\n",
       "      <td>2015-01-01</td>\n",
       "      <td>6.514761</td>\n",
       "      <td>1.966477</td>\n",
       "      <td>4.000172</td>\n",
       "      <td>1.002543</td>\n",
       "      <td>2015</td>\n",
       "      <td>1</td>\n",
       "      <td>1</td>\n",
       "      <td>7.709246</td>\n",
       "      <td>-2.074276</td>\n",
       "    </tr>\n",
       "    <tr>\n",
       "      <th>1</th>\n",
       "      <td>2015-01-02</td>\n",
       "      <td>8.052436</td>\n",
       "      <td>2.692204</td>\n",
       "      <td>4.202973</td>\n",
       "      <td>1.182462</td>\n",
       "      <td>2015</td>\n",
       "      <td>1</td>\n",
       "      <td>2</td>\n",
       "      <td>7.709246</td>\n",
       "      <td>-1.698272</td>\n",
       "    </tr>\n",
       "    <tr>\n",
       "      <th>2</th>\n",
       "      <td>2015-01-03</td>\n",
       "      <td>1.416353</td>\n",
       "      <td>0.828085</td>\n",
       "      <td>3.932778</td>\n",
       "      <td>0.752140</td>\n",
       "      <td>2015</td>\n",
       "      <td>1</td>\n",
       "      <td>3</td>\n",
       "      <td>7.709246</td>\n",
       "      <td>-2.531200</td>\n",
       "    </tr>\n",
       "    <tr>\n",
       "      <th>3</th>\n",
       "      <td>2015-01-04</td>\n",
       "      <td>23.150974</td>\n",
       "      <td>2.364892</td>\n",
       "      <td>5.937545</td>\n",
       "      <td>1.287890</td>\n",
       "      <td>2015</td>\n",
       "      <td>1</td>\n",
       "      <td>4</td>\n",
       "      <td>7.709246</td>\n",
       "      <td>-0.900055</td>\n",
       "    </tr>\n",
       "    <tr>\n",
       "      <th>4</th>\n",
       "      <td>2015-01-05</td>\n",
       "      <td>5.724569</td>\n",
       "      <td>-1.390870</td>\n",
       "      <td>6.359421</td>\n",
       "      <td>0.000000</td>\n",
       "      <td>2015</td>\n",
       "      <td>1</td>\n",
       "      <td>5</td>\n",
       "      <td>7.709246</td>\n",
       "      <td>-2.066093</td>\n",
       "    </tr>\n",
       "  </tbody>\n",
       "</table>\n",
       "</div>"
      ],
      "text/plain": [
       "        Date     precip     tmean    trange  evaporation  Year  Month  Day  \\\n",
       "0 2015-01-01   6.514761  1.966477  4.000172     1.002543  2015      1    1   \n",
       "1 2015-01-02   8.052436  2.692204  4.202973     1.182462  2015      1    2   \n",
       "2 2015-01-03   1.416353  0.828085  3.932778     0.752140  2015      1    3   \n",
       "3 2015-01-04  23.150974  2.364892  5.937545     1.287890  2015      1    4   \n",
       "4 2015-01-05   5.724569 -1.390870  6.359421     0.000000  2015      1    5   \n",
       "\n",
       "       rann  tmean_tdew  \n",
       "0  7.709246   -2.074276  \n",
       "1  7.709246   -1.698272  \n",
       "2  7.709246   -2.531200  \n",
       "3  7.709246   -0.900055  \n",
       "4  7.709246   -2.066093  "
      ]
     },
     "execution_count": 123,
     "metadata": {},
     "output_type": "execute_result"
    }
   ],
   "source": [
    "s4_dfs[39].head()"
   ]
  },
  {
   "cell_type": "code",
   "execution_count": 124,
   "metadata": {},
   "outputs": [
    {
     "name": "stdout",
     "output_type": "stream",
     "text": [
      "[ 7.70924584  8.87317551  9.59972532 11.24756708 12.39365254 12.54254388\n",
      " 14.85505696 14.88137769 13.71757729 11.11042094  7.58071195  7.17676915]\n"
     ]
    }
   ],
   "source": [
    "# distinct_values = s4_dfs[39]['rann'].unique()\n",
    "# print(distinct_values)"
   ]
  },
  {
   "cell_type": "code",
   "execution_count": 125,
   "metadata": {},
   "outputs": [
    {
     "name": "stdout",
     "output_type": "stream",
     "text": [
      "Month\n",
      "1      15.074350\n",
      "2      27.338075\n",
      "3      43.279912\n",
      "4      72.807362\n",
      "5     121.550389\n",
      "6     165.094323\n",
      "7     239.371087\n",
      "8     243.721795\n",
      "9     161.230956\n",
      "10     91.125795\n",
      "11     25.134550\n",
      "12      9.201502\n",
      "dtype: float64\n"
     ]
    }
   ],
   "source": [
    "# days_in_month = s4_dfs[0].groupby('Month')['Day'].nunique()\n",
    "\n",
    "# mean_evaporation_by_month = s4_dfs[0].groupby('Month')['evaporation'].mean()\n",
    "\n",
    "# total_evaporation_by_month = mean_evaporation_by_month * days_in_month\n",
    "\n",
    "# print(total_evaporation_by_month)"
   ]
  },
  {
   "cell_type": "code",
   "execution_count": 126,
   "metadata": {},
   "outputs": [
    {
     "name": "stdout",
     "output_type": "stream",
     "text": [
      "Total evaporation: 1214.9300965710481\n"
     ]
    }
   ],
   "source": [
    "# total_evaporation_sum = total_evaporation_by_month.sum()\n",
    "\n",
    "# print(\"Total evaporation:\", total_evaporation_sum)"
   ]
  },
  {
   "cell_type": "code",
   "execution_count": 119,
   "metadata": {},
   "outputs": [],
   "source": [
    "# Iterate over the merged dataframes for saving\n",
    "for i, df in enumerate(s4_dfs):\n",
    "    # Save the merged dataframe to a CSV file\n",
    "    csv_filename = f\"s4_{i+1}_t_p_e.csv\"  # Naming based on position in the list\n",
    "    csv_filepath = os.path.join(\"C:/Users/14037/OneDrive - University of Calgary/Documents/ENCI_570/TM_PHES_code/S4/penman\", csv_filename)\n",
    "    df.to_csv(csv_filepath, index=False)\n"
   ]
  }
 ],
 "metadata": {
  "kernelspec": {
   "display_name": "TM_PHES",
   "language": "python",
   "name": "python3"
  },
  "language_info": {
   "codemirror_mode": {
    "name": "ipython",
    "version": 3
   },
   "file_extension": ".py",
   "mimetype": "text/x-python",
   "name": "python",
   "nbconvert_exporter": "python",
   "pygments_lexer": "ipython3",
   "version": "3.12.0"
  }
 },
 "nbformat": 4,
 "nbformat_minor": 2
}
