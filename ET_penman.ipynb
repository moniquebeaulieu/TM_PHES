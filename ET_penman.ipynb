{
 "cells": [
  {
   "cell_type": "markdown",
   "metadata": {},
   "source": [
    "# EvapoTranspiration Using Pennmans Formula on - Gridded Data EMDA\n",
    "## Ensemble of Meterological Dataset for North America \n",
    "### using probabilistc methods to estimate the uncertainty in spatial fields\n",
    "https://essd.copernicus.org/articles/13/3337/2021/"
   ]
  },
  {
   "cell_type": "markdown",
   "metadata": {},
   "source": [
    "*Each scenario represents a predicted socio-economic status and the radiative energy that the globe will reach by the end of the century (4 socio-economic scenarios paired with radiative force we are producing (KJ/m2)).  **SSP1-2.6** = assumes reduced emissions, **SSP2-4.5** = assumes the same trend of emissions as historical, **SSP3-7.0** = medium to high emissions scenario, **SSP5-8.5**=optimal for economic development but with high emissions.*"
   ]
  },
  {
   "cell_type": "markdown",
   "metadata": {},
   "source": [
    "![Penman Formula](penman.jpg)\n"
   ]
  },
  {
   "cell_type": "markdown",
   "metadata": {},
   "source": [
    "# Install Libraries"
   ]
  },
  {
   "cell_type": "code",
   "execution_count": 171,
   "metadata": {},
   "outputs": [],
   "source": [
    "import numpy as np\n",
    "import pandas as pd\n",
    "import seaborn as sns\n",
    "import matplotlib.pyplot as plt\n",
    "from datetime import datetime, timedelta\n",
    "from scipy.stats import linregress\n",
    "from itertools import combinations\n",
    "import math\n",
    "from matplotlib.dates import MonthLocator, DateFormatter\n",
    "import requests\n",
    "from io import StringIO\n",
    "import os"
   ]
  },
  {
   "cell_type": "markdown",
   "metadata": {},
   "source": [
    "# Hard Coded Variables"
   ]
  },
  {
   "cell_type": "markdown",
   "metadata": {},
   "source": [
    "## Observed"
   ]
  },
  {
   "cell_type": "code",
   "execution_count": 172,
   "metadata": {},
   "outputs": [],
   "source": [
    "observed_folder_t_p = 'C:/Users/14037/OneDrive - University of Calgary/Documents/ENCI_570/TM_PHES_code/Observed'\n",
    "observed_folder_trange = 'C:/Users/14037/OneDrive - University of Calgary/Documents/ENCI_570/TM_PHES_code/Observed/trange'"
   ]
  },
  {
   "cell_type": "markdown",
   "metadata": {},
   "source": [
    "## S1"
   ]
  },
  {
   "cell_type": "code",
   "execution_count": 173,
   "metadata": {},
   "outputs": [],
   "source": [
    "s1_folder_t_p = 'C:/Users/14037/OneDrive - University of Calgary/Documents/ENCI_570/TM_PHES_code/S1'\n",
    "s1_folder_trange = 'C:/Users/14037/OneDrive - University of Calgary/Documents/ENCI_570/TM_PHES_code/S1/trange'"
   ]
  },
  {
   "cell_type": "markdown",
   "metadata": {},
   "source": [
    "## S2"
   ]
  },
  {
   "cell_type": "code",
   "execution_count": 174,
   "metadata": {},
   "outputs": [],
   "source": [
    "s2_folder_t_p = 'C:/Users/14037/OneDrive - University of Calgary/Documents/ENCI_570/TM_PHES_code/S2'\n",
    "s2_folder_trange = 'C:/Users/14037/OneDrive - University of Calgary/Documents/ENCI_570/TM_PHES_code/S2/trange'"
   ]
  },
  {
   "cell_type": "markdown",
   "metadata": {},
   "source": [
    "## S3"
   ]
  },
  {
   "cell_type": "code",
   "execution_count": 175,
   "metadata": {},
   "outputs": [],
   "source": [
    "s3_folder_t_p = 'C:/Users/14037/OneDrive - University of Calgary/Documents/ENCI_570/TM_PHES_code/S3'\n",
    "s3_folder_trange = 'C:/Users/14037/OneDrive - University of Calgary/Documents/ENCI_570/TM_PHES_code/S3/trange'"
   ]
  },
  {
   "cell_type": "markdown",
   "metadata": {},
   "source": [
    "## S4"
   ]
  },
  {
   "cell_type": "code",
   "execution_count": 176,
   "metadata": {},
   "outputs": [],
   "source": [
    "s4_folder_t_p = 'C:/Users/14037/OneDrive - University of Calgary/Documents/ENCI_570/TM_PHES_code/S4'\n",
    "s4_folder_trange = 'C:/Users/14037/OneDrive - University of Calgary/Documents/ENCI_570/TM_PHES_code/S4/trange'"
   ]
  },
  {
   "cell_type": "markdown",
   "metadata": {},
   "source": [
    "# Utility Functions"
   ]
  },
  {
   "cell_type": "code",
   "execution_count": 177,
   "metadata": {},
   "outputs": [],
   "source": [
    "def read_csv_files_in_folder(folder_path):\n",
    "    dataframes = []\n",
    "    \n",
    "    files = sorted(os.listdir(folder_path))  # Sort files alphabetically\n",
    "    for file in files:\n",
    "        if file.endswith(\".csv\"):\n",
    "            file_path = os.path.join(folder_path, file)\n",
    "            df = pd.read_csv(file_path)\n",
    "            dataframes.append(df)\n",
    "    \n",
    "    return dataframes\n"
   ]
  },
  {
   "cell_type": "code",
   "execution_count": 178,
   "metadata": {},
   "outputs": [],
   "source": [
    "def merge_dataframes(df_t_p_list, df_f_list):\n",
    "    \"\"\"\n",
    "    Merge two lists of DataFrames based on the 'Date' column.\n",
    "\n",
    "    Parameters:\n",
    "    - df_t_p_list: List of DataFrames with 'Date', 'tmean', and 'precip' columns, sorted by 'Date'\n",
    "    - df_f_list: List of DataFrames with 'Date' and 'trange' columns, sorted by 'Date'\n",
    "\n",
    "    Returns:\n",
    "    - Merged list of DataFrames on 'Date' column\n",
    "    \"\"\"\n",
    "    merged_dfs = []\n",
    "\n",
    "    # Ensure the length of both lists is the same\n",
    "    assert len(df_t_p_list) == len(df_f_list), \"The lengths of input lists must be the same.\"\n",
    "\n",
    "    for df_t_p, df_f in zip(df_t_p_list, df_f_list):\n",
    "        # Convert 'Date' column to datetime if not already\n",
    "        if not pd.api.types.is_datetime64_any_dtype(df_t_p['Date']):\n",
    "            df_t_p['Date'] = pd.to_datetime(df_t_p['Date'])\n",
    "\n",
    "        if not pd.api.types.is_datetime64_any_dtype(df_f['Date']):\n",
    "            df_f['Date'] = pd.to_datetime(df_f['Date'])\n",
    "\n",
    "        merged_df = pd.merge(df_t_p, df_f, on='Date', how='outer')\n",
    "        merged_dfs.append(merged_df)\n",
    "\n",
    "    return merged_dfs"
   ]
  },
  {
   "cell_type": "code",
   "execution_count": 179,
   "metadata": {},
   "outputs": [],
   "source": [
    "def calculate_and_add_column(df_list):\n",
    "    \"\"\"\n",
    "    Calculate a new column based on the specified formula and add it to each DataFrame in the list.\n",
    "\n",
    "    Parameters:\n",
    "    - df_list: List of DataFrames\n",
    "\n",
    "    Returns:\n",
    "    - None (modifies the DataFrames in place)\n",
    "    \"\"\"\n",
    "    for df in df_list:\n",
    "        # Extract year, month, and day information\n",
    "        df['Year'] = df['Date'].dt.year\n",
    "        df['Month'] = df['Date'].dt.month\n",
    "        df['Day'] = df['Date'].dt.day\n",
    "\n",
    "        # Calculate monthly means for July and December\n",
    "        july_mean = df[(df['Month'] == 7)].groupby('Year')['tmean'].mean()\n",
    "        dec_mean = df[(df['Month'] == 12)].groupby('Year')['tmean'].mean()\n",
    "\n",
    "        # Map the mean values to the corresponding year in the DataFrame\n",
    "        df['tmean_jul'] = df['Year'].map(july_mean)\n",
    "        df['tmean_dec'] = df['Year'].map(dec_mean)\n",
    "\n",
    "        # Perform the specified calculation and add a new column to the DataFrame\n",
    "        df['evaporation'] = (\n",
    "            (700 * (df['tmean'] + 10.2) / 50.449) +\n",
    "            15 * (3.91 +0.37* df['tmean'] + 0.53 * df['trange'] + 0.35 * (df['tmean_jul'] - df['tmean_dec']) - 10.9)\n",
    "        ) / (80 - df['tmean'])\n",
    "\n",
    "        # Drop the intermediate columns\n",
    "        df.drop(['Year','Month', 'Day'], axis=1, inplace=True, errors='ignore') "
   ]
  },
  {
   "cell_type": "markdown",
   "metadata": {},
   "source": [
    "# Data Engineering"
   ]
  },
  {
   "cell_type": "markdown",
   "metadata": {},
   "source": [
    "## Observed"
   ]
  },
  {
   "cell_type": "code",
   "execution_count": 180,
   "metadata": {},
   "outputs": [],
   "source": [
    "observed_t_p = read_csv_files_in_folder(observed_folder_t_p)\n",
    "observed_trange = read_csv_files_in_folder(observed_folder_trange)"
   ]
  },
  {
   "cell_type": "code",
   "execution_count": 181,
   "metadata": {},
   "outputs": [],
   "source": [
    "observed_dfs = merge_dataframes(observed_t_p, observed_trange)"
   ]
  },
  {
   "cell_type": "code",
   "execution_count": 182,
   "metadata": {},
   "outputs": [
    {
     "data": {
      "text/html": [
       "<div>\n",
       "<style scoped>\n",
       "    .dataframe tbody tr th:only-of-type {\n",
       "        vertical-align: middle;\n",
       "    }\n",
       "\n",
       "    .dataframe tbody tr th {\n",
       "        vertical-align: top;\n",
       "    }\n",
       "\n",
       "    .dataframe thead th {\n",
       "        text-align: right;\n",
       "    }\n",
       "</style>\n",
       "<table border=\"1\" class=\"dataframe\">\n",
       "  <thead>\n",
       "    <tr style=\"text-align: right;\">\n",
       "      <th></th>\n",
       "      <th>Date</th>\n",
       "      <th>tmean</th>\n",
       "      <th>precip</th>\n",
       "      <th>trange</th>\n",
       "    </tr>\n",
       "  </thead>\n",
       "  <tbody>\n",
       "    <tr>\n",
       "      <th>0</th>\n",
       "      <td>1979-01-01</td>\n",
       "      <td>-24.9175</td>\n",
       "      <td>2.77110</td>\n",
       "      <td>12.577</td>\n",
       "    </tr>\n",
       "    <tr>\n",
       "      <th>1</th>\n",
       "      <td>1979-01-02</td>\n",
       "      <td>-21.8485</td>\n",
       "      <td>0.70797</td>\n",
       "      <td>9.769</td>\n",
       "    </tr>\n",
       "  </tbody>\n",
       "</table>\n",
       "</div>"
      ],
      "text/plain": [
       "        Date    tmean   precip  trange\n",
       "0 1979-01-01 -24.9175  2.77110  12.577\n",
       "1 1979-01-02 -21.8485  0.70797   9.769"
      ]
     },
     "execution_count": 182,
     "metadata": {},
     "output_type": "execute_result"
    }
   ],
   "source": [
    "observed_dfs[0].head(2)"
   ]
  },
  {
   "cell_type": "markdown",
   "metadata": {},
   "source": [
    "## S1"
   ]
  },
  {
   "cell_type": "code",
   "execution_count": 183,
   "metadata": {},
   "outputs": [],
   "source": [
    "s1_t_p = read_csv_files_in_folder(s1_folder_t_p)\n",
    "s1_trange = read_csv_files_in_folder(s1_folder_trange)"
   ]
  },
  {
   "cell_type": "code",
   "execution_count": 184,
   "metadata": {},
   "outputs": [],
   "source": [
    "s1_dfs = merge_dataframes(s1_t_p, s1_trange)"
   ]
  },
  {
   "cell_type": "markdown",
   "metadata": {},
   "source": [
    "## S2"
   ]
  },
  {
   "cell_type": "code",
   "execution_count": 185,
   "metadata": {},
   "outputs": [],
   "source": [
    "s2_t_p = read_csv_files_in_folder(s2_folder_t_p)\n",
    "s2_trange = read_csv_files_in_folder(s2_folder_trange)"
   ]
  },
  {
   "cell_type": "code",
   "execution_count": 186,
   "metadata": {},
   "outputs": [],
   "source": [
    "s2_dfs = merge_dataframes(s2_t_p, s2_trange)"
   ]
  },
  {
   "cell_type": "markdown",
   "metadata": {},
   "source": [
    "## S3"
   ]
  },
  {
   "cell_type": "code",
   "execution_count": 187,
   "metadata": {},
   "outputs": [],
   "source": [
    "s3_t_p = read_csv_files_in_folder(s3_folder_t_p)\n",
    "s3_trange = read_csv_files_in_folder(s3_folder_trange)"
   ]
  },
  {
   "cell_type": "code",
   "execution_count": 188,
   "metadata": {},
   "outputs": [],
   "source": [
    "s3_dfs = merge_dataframes(s3_t_p, s3_trange)"
   ]
  },
  {
   "cell_type": "markdown",
   "metadata": {},
   "source": [
    "## S4"
   ]
  },
  {
   "cell_type": "code",
   "execution_count": 189,
   "metadata": {},
   "outputs": [],
   "source": [
    "s4_t_p = read_csv_files_in_folder(s4_folder_t_p)\n",
    "s4_trange = read_csv_files_in_folder(s4_folder_trange)"
   ]
  },
  {
   "cell_type": "code",
   "execution_count": 190,
   "metadata": {},
   "outputs": [],
   "source": [
    "s4_dfs = merge_dataframes(s4_t_p, s4_trange)"
   ]
  },
  {
   "cell_type": "code",
   "execution_count": 191,
   "metadata": {},
   "outputs": [
    {
     "data": {
      "text/html": [
       "<div>\n",
       "<style scoped>\n",
       "    .dataframe tbody tr th:only-of-type {\n",
       "        vertical-align: middle;\n",
       "    }\n",
       "\n",
       "    .dataframe tbody tr th {\n",
       "        vertical-align: top;\n",
       "    }\n",
       "\n",
       "    .dataframe thead th {\n",
       "        text-align: right;\n",
       "    }\n",
       "</style>\n",
       "<table border=\"1\" class=\"dataframe\">\n",
       "  <thead>\n",
       "    <tr style=\"text-align: right;\">\n",
       "      <th></th>\n",
       "      <th>Date</th>\n",
       "      <th>precip</th>\n",
       "      <th>tmean</th>\n",
       "      <th>trange</th>\n",
       "    </tr>\n",
       "  </thead>\n",
       "  <tbody>\n",
       "    <tr>\n",
       "      <th>0</th>\n",
       "      <td>2015-01-01</td>\n",
       "      <td>6.514761</td>\n",
       "      <td>1.966477</td>\n",
       "      <td>4.000172</td>\n",
       "    </tr>\n",
       "    <tr>\n",
       "      <th>1</th>\n",
       "      <td>2015-01-02</td>\n",
       "      <td>8.052436</td>\n",
       "      <td>2.692204</td>\n",
       "      <td>4.202973</td>\n",
       "    </tr>\n",
       "    <tr>\n",
       "      <th>2</th>\n",
       "      <td>2015-01-03</td>\n",
       "      <td>1.416353</td>\n",
       "      <td>0.828085</td>\n",
       "      <td>3.932778</td>\n",
       "    </tr>\n",
       "    <tr>\n",
       "      <th>3</th>\n",
       "      <td>2015-01-04</td>\n",
       "      <td>23.150974</td>\n",
       "      <td>2.364892</td>\n",
       "      <td>5.937545</td>\n",
       "    </tr>\n",
       "    <tr>\n",
       "      <th>4</th>\n",
       "      <td>2015-01-05</td>\n",
       "      <td>5.724569</td>\n",
       "      <td>-1.390870</td>\n",
       "      <td>6.359421</td>\n",
       "    </tr>\n",
       "  </tbody>\n",
       "</table>\n",
       "</div>"
      ],
      "text/plain": [
       "        Date     precip     tmean    trange\n",
       "0 2015-01-01   6.514761  1.966477  4.000172\n",
       "1 2015-01-02   8.052436  2.692204  4.202973\n",
       "2 2015-01-03   1.416353  0.828085  3.932778\n",
       "3 2015-01-04  23.150974  2.364892  5.937545\n",
       "4 2015-01-05   5.724569 -1.390870  6.359421"
      ]
     },
     "execution_count": 191,
     "metadata": {},
     "output_type": "execute_result"
    }
   ],
   "source": [
    "s4_dfs[39].head()"
   ]
  },
  {
   "cell_type": "markdown",
   "metadata": {},
   "source": [
    "# Calculations"
   ]
  },
  {
   "cell_type": "markdown",
   "metadata": {},
   "source": [
    "## Observed"
   ]
  },
  {
   "cell_type": "code",
   "execution_count": 192,
   "metadata": {},
   "outputs": [],
   "source": [
    "calculate_and_add_column(observed_dfs)"
   ]
  },
  {
   "cell_type": "code",
   "execution_count": 193,
   "metadata": {},
   "outputs": [
    {
     "data": {
      "text/html": [
       "<div>\n",
       "<style scoped>\n",
       "    .dataframe tbody tr th:only-of-type {\n",
       "        vertical-align: middle;\n",
       "    }\n",
       "\n",
       "    .dataframe tbody tr th {\n",
       "        vertical-align: top;\n",
       "    }\n",
       "\n",
       "    .dataframe thead th {\n",
       "        text-align: right;\n",
       "    }\n",
       "</style>\n",
       "<table border=\"1\" class=\"dataframe\">\n",
       "  <thead>\n",
       "    <tr style=\"text-align: right;\">\n",
       "      <th></th>\n",
       "      <th>Date</th>\n",
       "      <th>tmean</th>\n",
       "      <th>precip</th>\n",
       "      <th>trange</th>\n",
       "      <th>tmean_jul</th>\n",
       "      <th>tmean_dec</th>\n",
       "      <th>evaporation</th>\n",
       "    </tr>\n",
       "  </thead>\n",
       "  <tbody>\n",
       "    <tr>\n",
       "      <th>0</th>\n",
       "      <td>1979-01-01</td>\n",
       "      <td>-24.9175</td>\n",
       "      <td>2.771100</td>\n",
       "      <td>12.577</td>\n",
       "      <td>14.36335</td>\n",
       "      <td>-4.527383</td>\n",
       "      <td>-2.365571</td>\n",
       "    </tr>\n",
       "    <tr>\n",
       "      <th>1</th>\n",
       "      <td>1979-01-02</td>\n",
       "      <td>-21.8485</td>\n",
       "      <td>0.707970</td>\n",
       "      <td>9.769</td>\n",
       "      <td>14.36335</td>\n",
       "      <td>-4.527383</td>\n",
       "      <td>-2.070692</td>\n",
       "    </tr>\n",
       "    <tr>\n",
       "      <th>2</th>\n",
       "      <td>1979-01-03</td>\n",
       "      <td>-22.2550</td>\n",
       "      <td>0.117580</td>\n",
       "      <td>9.818</td>\n",
       "      <td>14.36335</td>\n",
       "      <td>-4.527383</td>\n",
       "      <td>-2.135873</td>\n",
       "    </tr>\n",
       "    <tr>\n",
       "      <th>3</th>\n",
       "      <td>1979-01-04</td>\n",
       "      <td>-23.5575</td>\n",
       "      <td>0.000000</td>\n",
       "      <td>12.729</td>\n",
       "      <td>14.36335</td>\n",
       "      <td>-4.527383</td>\n",
       "      <td>-2.129859</td>\n",
       "    </tr>\n",
       "    <tr>\n",
       "      <th>4</th>\n",
       "      <td>1979-01-05</td>\n",
       "      <td>-21.4305</td>\n",
       "      <td>0.000486</td>\n",
       "      <td>13.063</td>\n",
       "      <td>14.36335</td>\n",
       "      <td>-4.527383</td>\n",
       "      <td>-1.740993</td>\n",
       "    </tr>\n",
       "  </tbody>\n",
       "</table>\n",
       "</div>"
      ],
      "text/plain": [
       "        Date    tmean    precip  trange  tmean_jul  tmean_dec  evaporation\n",
       "0 1979-01-01 -24.9175  2.771100  12.577   14.36335  -4.527383    -2.365571\n",
       "1 1979-01-02 -21.8485  0.707970   9.769   14.36335  -4.527383    -2.070692\n",
       "2 1979-01-03 -22.2550  0.117580   9.818   14.36335  -4.527383    -2.135873\n",
       "3 1979-01-04 -23.5575  0.000000  12.729   14.36335  -4.527383    -2.129859\n",
       "4 1979-01-05 -21.4305  0.000486  13.063   14.36335  -4.527383    -1.740993"
      ]
     },
     "execution_count": 193,
     "metadata": {},
     "output_type": "execute_result"
    }
   ],
   "source": [
    "observed_dfs[0].head()"
   ]
  },
  {
   "cell_type": "code",
   "execution_count": 194,
   "metadata": {},
   "outputs": [],
   "source": [
    "# Iterate over the merged dataframes for saving\n",
    "for i, df in enumerate(observed_dfs):\n",
    "    # Save the merged dataframe to a CSV file\n",
    "    csv_filename = f\"observed_t_p_e.csv\"  # Naming based on position in the list\n",
    "    csv_filepath = os.path.join(\"C:/Users/14037/OneDrive - University of Calgary/Documents/ENCI_570/TM_PHES_code/observed/penman\", csv_filename)\n",
    "    df.to_csv(csv_filepath, index=False)\n"
   ]
  },
  {
   "cell_type": "markdown",
   "metadata": {},
   "source": [
    "## **Scenario 1:** SSP1-2.6 = *assumes reduced emissions*"
   ]
  },
  {
   "cell_type": "code",
   "execution_count": 195,
   "metadata": {},
   "outputs": [],
   "source": [
    "calculate_and_add_column(s1_dfs)"
   ]
  },
  {
   "cell_type": "code",
   "execution_count": 196,
   "metadata": {},
   "outputs": [
    {
     "data": {
      "text/html": [
       "<div>\n",
       "<style scoped>\n",
       "    .dataframe tbody tr th:only-of-type {\n",
       "        vertical-align: middle;\n",
       "    }\n",
       "\n",
       "    .dataframe tbody tr th {\n",
       "        vertical-align: top;\n",
       "    }\n",
       "\n",
       "    .dataframe thead th {\n",
       "        text-align: right;\n",
       "    }\n",
       "</style>\n",
       "<table border=\"1\" class=\"dataframe\">\n",
       "  <thead>\n",
       "    <tr style=\"text-align: right;\">\n",
       "      <th></th>\n",
       "      <th>Date</th>\n",
       "      <th>precip</th>\n",
       "      <th>tmean</th>\n",
       "      <th>trange</th>\n",
       "      <th>tmean_jul</th>\n",
       "      <th>tmean_dec</th>\n",
       "      <th>evaporation</th>\n",
       "    </tr>\n",
       "  </thead>\n",
       "  <tbody>\n",
       "    <tr>\n",
       "      <th>0</th>\n",
       "      <td>2015-01-01</td>\n",
       "      <td>12.284951</td>\n",
       "      <td>-4.077306</td>\n",
       "      <td>2.030853</td>\n",
       "      <td>14.100862</td>\n",
       "      <td>-8.641855</td>\n",
       "      <td>1.106367</td>\n",
       "    </tr>\n",
       "    <tr>\n",
       "      <th>1</th>\n",
       "      <td>2015-01-02</td>\n",
       "      <td>2.865495</td>\n",
       "      <td>-3.112623</td>\n",
       "      <td>0.101487</td>\n",
       "      <td>14.100862</td>\n",
       "      <td>-8.641855</td>\n",
       "      <td>1.160127</td>\n",
       "    </tr>\n",
       "    <tr>\n",
       "      <th>2</th>\n",
       "      <td>2015-01-03</td>\n",
       "      <td>6.831872</td>\n",
       "      <td>-0.506162</td>\n",
       "      <td>5.111435</td>\n",
       "      <td>14.100862</td>\n",
       "      <td>-8.641855</td>\n",
       "      <td>2.321336</td>\n",
       "    </tr>\n",
       "    <tr>\n",
       "      <th>3</th>\n",
       "      <td>2015-01-04</td>\n",
       "      <td>1.807658</td>\n",
       "      <td>-5.040199</td>\n",
       "      <td>10.397952</td>\n",
       "      <td>14.100862</td>\n",
       "      <td>-8.641855</td>\n",
       "      <td>1.656089</td>\n",
       "    </tr>\n",
       "    <tr>\n",
       "      <th>4</th>\n",
       "      <td>2015-01-05</td>\n",
       "      <td>1.872311</td>\n",
       "      <td>-3.142410</td>\n",
       "      <td>4.184681</td>\n",
       "      <td>14.100862</td>\n",
       "      <td>-8.641855</td>\n",
       "      <td>1.543183</td>\n",
       "    </tr>\n",
       "  </tbody>\n",
       "</table>\n",
       "</div>"
      ],
      "text/plain": [
       "        Date     precip     tmean     trange  tmean_jul  tmean_dec  \\\n",
       "0 2015-01-01  12.284951 -4.077306   2.030853  14.100862  -8.641855   \n",
       "1 2015-01-02   2.865495 -3.112623   0.101487  14.100862  -8.641855   \n",
       "2 2015-01-03   6.831872 -0.506162   5.111435  14.100862  -8.641855   \n",
       "3 2015-01-04   1.807658 -5.040199  10.397952  14.100862  -8.641855   \n",
       "4 2015-01-05   1.872311 -3.142410   4.184681  14.100862  -8.641855   \n",
       "\n",
       "   evaporation  \n",
       "0     1.106367  \n",
       "1     1.160127  \n",
       "2     2.321336  \n",
       "3     1.656089  \n",
       "4     1.543183  "
      ]
     },
     "execution_count": 196,
     "metadata": {},
     "output_type": "execute_result"
    }
   ],
   "source": [
    "s1_dfs[0].head()"
   ]
  },
  {
   "cell_type": "code",
   "execution_count": 197,
   "metadata": {},
   "outputs": [],
   "source": [
    "# Iterate over the merged dataframes for saving\n",
    "for i, df in enumerate(s1_dfs):\n",
    "    # Save the merged dataframe to a CSV file\n",
    "    csv_filename = f\"s1_{i+1}_t_p_e.csv\"  # Naming based on position in the list\n",
    "    csv_filepath = os.path.join(\"C:/Users/14037/OneDrive - University of Calgary/Documents/ENCI_570/TM_PHES_code/S1/penman\", csv_filename)\n",
    "    df.to_csv(csv_filepath, index=False)\n"
   ]
  },
  {
   "cell_type": "markdown",
   "metadata": {},
   "source": [
    "## **Scenario 2:** SSP2-4.5 = *assumes the same trend of emissions as historical*"
   ]
  },
  {
   "cell_type": "code",
   "execution_count": 198,
   "metadata": {},
   "outputs": [],
   "source": [
    "calculate_and_add_column(s2_dfs)"
   ]
  },
  {
   "cell_type": "code",
   "execution_count": 199,
   "metadata": {},
   "outputs": [
    {
     "data": {
      "text/html": [
       "<div>\n",
       "<style scoped>\n",
       "    .dataframe tbody tr th:only-of-type {\n",
       "        vertical-align: middle;\n",
       "    }\n",
       "\n",
       "    .dataframe tbody tr th {\n",
       "        vertical-align: top;\n",
       "    }\n",
       "\n",
       "    .dataframe thead th {\n",
       "        text-align: right;\n",
       "    }\n",
       "</style>\n",
       "<table border=\"1\" class=\"dataframe\">\n",
       "  <thead>\n",
       "    <tr style=\"text-align: right;\">\n",
       "      <th></th>\n",
       "      <th>Date</th>\n",
       "      <th>precip</th>\n",
       "      <th>tmean</th>\n",
       "      <th>trange</th>\n",
       "      <th>tmean_jul</th>\n",
       "      <th>tmean_dec</th>\n",
       "      <th>evaporation</th>\n",
       "    </tr>\n",
       "  </thead>\n",
       "  <tbody>\n",
       "    <tr>\n",
       "      <th>0</th>\n",
       "      <td>2015-01-01</td>\n",
       "      <td>5.913979</td>\n",
       "      <td>1.064339</td>\n",
       "      <td>3.946321</td>\n",
       "      <td>15.245039</td>\n",
       "      <td>-6.250266</td>\n",
       "      <td>2.553699</td>\n",
       "    </tr>\n",
       "    <tr>\n",
       "      <th>1</th>\n",
       "      <td>2015-01-02</td>\n",
       "      <td>7.351886</td>\n",
       "      <td>1.542983</td>\n",
       "      <td>4.307355</td>\n",
       "      <td>15.245039</td>\n",
       "      <td>-6.250266</td>\n",
       "      <td>2.724370</td>\n",
       "    </tr>\n",
       "    <tr>\n",
       "      <th>2</th>\n",
       "      <td>2015-01-03</td>\n",
       "      <td>1.266364</td>\n",
       "      <td>-0.072935</td>\n",
       "      <td>3.493105</td>\n",
       "      <td>15.245039</td>\n",
       "      <td>-6.250266</td>\n",
       "      <td>2.196533</td>\n",
       "    </tr>\n",
       "    <tr>\n",
       "      <th>3</th>\n",
       "      <td>2015-01-04</td>\n",
       "      <td>19.761959</td>\n",
       "      <td>1.357572</td>\n",
       "      <td>6.058133</td>\n",
       "      <td>15.245039</td>\n",
       "      <td>-6.250266</td>\n",
       "      <td>2.849136</td>\n",
       "    </tr>\n",
       "    <tr>\n",
       "      <th>4</th>\n",
       "      <td>2015-01-05</td>\n",
       "      <td>5.841811</td>\n",
       "      <td>-3.309855</td>\n",
       "      <td>7.554837</td>\n",
       "      <td>15.245039</td>\n",
       "      <td>-6.250266</td>\n",
       "      <td>1.744033</td>\n",
       "    </tr>\n",
       "  </tbody>\n",
       "</table>\n",
       "</div>"
      ],
      "text/plain": [
       "        Date     precip     tmean    trange  tmean_jul  tmean_dec  evaporation\n",
       "0 2015-01-01   5.913979  1.064339  3.946321  15.245039  -6.250266     2.553699\n",
       "1 2015-01-02   7.351886  1.542983  4.307355  15.245039  -6.250266     2.724370\n",
       "2 2015-01-03   1.266364 -0.072935  3.493105  15.245039  -6.250266     2.196533\n",
       "3 2015-01-04  19.761959  1.357572  6.058133  15.245039  -6.250266     2.849136\n",
       "4 2015-01-05   5.841811 -3.309855  7.554837  15.245039  -6.250266     1.744033"
      ]
     },
     "execution_count": 199,
     "metadata": {},
     "output_type": "execute_result"
    }
   ],
   "source": [
    "s2_dfs[0].head()"
   ]
  },
  {
   "cell_type": "code",
   "execution_count": 200,
   "metadata": {},
   "outputs": [],
   "source": [
    "# Iterate over the merged dataframes for saving\n",
    "for i, df in enumerate(s2_dfs):\n",
    "    # Save the merged dataframe to a CSV file\n",
    "    csv_filename = f\"s2_{i+1}_t_p_e.csv\"  # Naming based on position in the list\n",
    "    csv_filepath = os.path.join(\"C:/Users/14037/OneDrive - University of Calgary/Documents/ENCI_570/TM_PHES_code/S2/penman\", csv_filename)\n",
    "    df.to_csv(csv_filepath, index=False)\n"
   ]
  },
  {
   "cell_type": "markdown",
   "metadata": {},
   "source": [
    "## **Scenario 3:** SSP3-7.0 = *medium to high emissions scenario*"
   ]
  },
  {
   "cell_type": "code",
   "execution_count": 201,
   "metadata": {},
   "outputs": [],
   "source": [
    "calculate_and_add_column(s3_dfs)"
   ]
  },
  {
   "cell_type": "code",
   "execution_count": 202,
   "metadata": {},
   "outputs": [
    {
     "data": {
      "text/html": [
       "<div>\n",
       "<style scoped>\n",
       "    .dataframe tbody tr th:only-of-type {\n",
       "        vertical-align: middle;\n",
       "    }\n",
       "\n",
       "    .dataframe tbody tr th {\n",
       "        vertical-align: top;\n",
       "    }\n",
       "\n",
       "    .dataframe thead th {\n",
       "        text-align: right;\n",
       "    }\n",
       "</style>\n",
       "<table border=\"1\" class=\"dataframe\">\n",
       "  <thead>\n",
       "    <tr style=\"text-align: right;\">\n",
       "      <th></th>\n",
       "      <th>Date</th>\n",
       "      <th>precip</th>\n",
       "      <th>tmean</th>\n",
       "      <th>trange</th>\n",
       "      <th>tmean_jul</th>\n",
       "      <th>tmean_dec</th>\n",
       "      <th>evaporation</th>\n",
       "    </tr>\n",
       "  </thead>\n",
       "  <tbody>\n",
       "    <tr>\n",
       "      <th>0</th>\n",
       "      <td>2015-01-01</td>\n",
       "      <td>7.079445</td>\n",
       "      <td>1.407242</td>\n",
       "      <td>3.878722</td>\n",
       "      <td>14.947745</td>\n",
       "      <td>-7.789648</td>\n",
       "      <td>2.725728</td>\n",
       "    </tr>\n",
       "    <tr>\n",
       "      <th>1</th>\n",
       "      <td>2015-01-02</td>\n",
       "      <td>8.912531</td>\n",
       "      <td>2.092265</td>\n",
       "      <td>3.747983</td>\n",
       "      <td>14.947745</td>\n",
       "      <td>-7.789648</td>\n",
       "      <td>2.907156</td>\n",
       "    </tr>\n",
       "    <tr>\n",
       "      <th>2</th>\n",
       "      <td>2015-01-03</td>\n",
       "      <td>1.376515</td>\n",
       "      <td>-0.056117</td>\n",
       "      <td>3.577113</td>\n",
       "      <td>14.947745</td>\n",
       "      <td>-7.789648</td>\n",
       "      <td>2.290872</td>\n",
       "    </tr>\n",
       "    <tr>\n",
       "      <th>3</th>\n",
       "      <td>2015-01-04</td>\n",
       "      <td>23.199167</td>\n",
       "      <td>1.494510</td>\n",
       "      <td>6.204350</td>\n",
       "      <td>14.947745</td>\n",
       "      <td>-7.789648</td>\n",
       "      <td>2.985860</td>\n",
       "    </tr>\n",
       "    <tr>\n",
       "      <th>4</th>\n",
       "      <td>2015-01-05</td>\n",
       "      <td>7.392652</td>\n",
       "      <td>-1.238661</td>\n",
       "      <td>4.011037</td>\n",
       "      <td>14.947745</td>\n",
       "      <td>-7.789648</td>\n",
       "      <td>2.017225</td>\n",
       "    </tr>\n",
       "  </tbody>\n",
       "</table>\n",
       "</div>"
      ],
      "text/plain": [
       "        Date     precip     tmean    trange  tmean_jul  tmean_dec  evaporation\n",
       "0 2015-01-01   7.079445  1.407242  3.878722  14.947745  -7.789648     2.725728\n",
       "1 2015-01-02   8.912531  2.092265  3.747983  14.947745  -7.789648     2.907156\n",
       "2 2015-01-03   1.376515 -0.056117  3.577113  14.947745  -7.789648     2.290872\n",
       "3 2015-01-04  23.199167  1.494510  6.204350  14.947745  -7.789648     2.985860\n",
       "4 2015-01-05   7.392652 -1.238661  4.011037  14.947745  -7.789648     2.017225"
      ]
     },
     "execution_count": 202,
     "metadata": {},
     "output_type": "execute_result"
    }
   ],
   "source": [
    "s3_dfs[0].head()"
   ]
  },
  {
   "cell_type": "code",
   "execution_count": 203,
   "metadata": {},
   "outputs": [],
   "source": [
    "# Iterate over the merged dataframes for saving\n",
    "for i, df in enumerate(s3_dfs):\n",
    "    # Save the merged dataframe to a CSV file\n",
    "    csv_filename = f\"s3_{i+1}_t_p_e.csv\"  # Naming based on position in the list\n",
    "    csv_filepath = os.path.join(\"C:/Users/14037/OneDrive - University of Calgary/Documents/ENCI_570/TM_PHES_code/S3/penman\", csv_filename)\n",
    "    df.to_csv(csv_filepath, index=False)\n"
   ]
  },
  {
   "cell_type": "markdown",
   "metadata": {},
   "source": [
    "## **Scenario 4:** SSP5-8.5 = *optimal for economic development but with high emissions.*"
   ]
  },
  {
   "cell_type": "code",
   "execution_count": 204,
   "metadata": {},
   "outputs": [],
   "source": [
    "calculate_and_add_column(s4_dfs)"
   ]
  },
  {
   "cell_type": "code",
   "execution_count": 205,
   "metadata": {},
   "outputs": [
    {
     "data": {
      "text/html": [
       "<div>\n",
       "<style scoped>\n",
       "    .dataframe tbody tr th:only-of-type {\n",
       "        vertical-align: middle;\n",
       "    }\n",
       "\n",
       "    .dataframe tbody tr th {\n",
       "        vertical-align: top;\n",
       "    }\n",
       "\n",
       "    .dataframe thead th {\n",
       "        text-align: right;\n",
       "    }\n",
       "</style>\n",
       "<table border=\"1\" class=\"dataframe\">\n",
       "  <thead>\n",
       "    <tr style=\"text-align: right;\">\n",
       "      <th></th>\n",
       "      <th>Date</th>\n",
       "      <th>precip</th>\n",
       "      <th>tmean</th>\n",
       "      <th>trange</th>\n",
       "      <th>tmean_jul</th>\n",
       "      <th>tmean_dec</th>\n",
       "      <th>evaporation</th>\n",
       "    </tr>\n",
       "  </thead>\n",
       "  <tbody>\n",
       "    <tr>\n",
       "      <th>0</th>\n",
       "      <td>2015-01-01</td>\n",
       "      <td>6.129145</td>\n",
       "      <td>1.677566</td>\n",
       "      <td>3.966279</td>\n",
       "      <td>13.715161</td>\n",
       "      <td>-2.269608</td>\n",
       "      <td>2.358435</td>\n",
       "    </tr>\n",
       "    <tr>\n",
       "      <th>1</th>\n",
       "      <td>2015-01-02</td>\n",
       "      <td>4.294818</td>\n",
       "      <td>-0.198543</td>\n",
       "      <td>5.185653</td>\n",
       "      <td>13.715161</td>\n",
       "      <td>-2.269608</td>\n",
       "      <td>1.969715</td>\n",
       "    </tr>\n",
       "    <tr>\n",
       "      <th>2</th>\n",
       "      <td>2015-01-03</td>\n",
       "      <td>0.000000</td>\n",
       "      <td>-1.132881</td>\n",
       "      <td>4.745145</td>\n",
       "      <td>13.715161</td>\n",
       "      <td>-2.269608</td>\n",
       "      <td>1.680162</td>\n",
       "    </tr>\n",
       "    <tr>\n",
       "      <th>3</th>\n",
       "      <td>2015-01-04</td>\n",
       "      <td>1.047620</td>\n",
       "      <td>-2.067218</td>\n",
       "      <td>4.304637</td>\n",
       "      <td>13.715161</td>\n",
       "      <td>-2.269608</td>\n",
       "      <td>1.397201</td>\n",
       "    </tr>\n",
       "    <tr>\n",
       "      <th>4</th>\n",
       "      <td>2015-01-05</td>\n",
       "      <td>1.139335</td>\n",
       "      <td>-2.429765</td>\n",
       "      <td>5.007710</td>\n",
       "      <td>13.715161</td>\n",
       "      <td>-2.269608</td>\n",
       "      <td>1.373427</td>\n",
       "    </tr>\n",
       "  </tbody>\n",
       "</table>\n",
       "</div>"
      ],
      "text/plain": [
       "        Date    precip     tmean    trange  tmean_jul  tmean_dec  evaporation\n",
       "0 2015-01-01  6.129145  1.677566  3.966279  13.715161  -2.269608     2.358435\n",
       "1 2015-01-02  4.294818 -0.198543  5.185653  13.715161  -2.269608     1.969715\n",
       "2 2015-01-03  0.000000 -1.132881  4.745145  13.715161  -2.269608     1.680162\n",
       "3 2015-01-04  1.047620 -2.067218  4.304637  13.715161  -2.269608     1.397201\n",
       "4 2015-01-05  1.139335 -2.429765  5.007710  13.715161  -2.269608     1.373427"
      ]
     },
     "execution_count": 205,
     "metadata": {},
     "output_type": "execute_result"
    }
   ],
   "source": [
    "s4_dfs[0].head()"
   ]
  },
  {
   "cell_type": "code",
   "execution_count": 206,
   "metadata": {},
   "outputs": [
    {
     "data": {
      "text/html": [
       "<div>\n",
       "<style scoped>\n",
       "    .dataframe tbody tr th:only-of-type {\n",
       "        vertical-align: middle;\n",
       "    }\n",
       "\n",
       "    .dataframe tbody tr th {\n",
       "        vertical-align: top;\n",
       "    }\n",
       "\n",
       "    .dataframe thead th {\n",
       "        text-align: right;\n",
       "    }\n",
       "</style>\n",
       "<table border=\"1\" class=\"dataframe\">\n",
       "  <thead>\n",
       "    <tr style=\"text-align: right;\">\n",
       "      <th></th>\n",
       "      <th>Date</th>\n",
       "      <th>precip</th>\n",
       "      <th>tmean</th>\n",
       "      <th>trange</th>\n",
       "      <th>tmean_jul</th>\n",
       "      <th>tmean_dec</th>\n",
       "      <th>evaporation</th>\n",
       "    </tr>\n",
       "  </thead>\n",
       "  <tbody>\n",
       "    <tr>\n",
       "      <th>0</th>\n",
       "      <td>2015-01-01</td>\n",
       "      <td>6.514761</td>\n",
       "      <td>1.966477</td>\n",
       "      <td>4.000172</td>\n",
       "      <td>14.007622</td>\n",
       "      <td>-13.559427</td>\n",
       "      <td>3.221783</td>\n",
       "    </tr>\n",
       "    <tr>\n",
       "      <th>1</th>\n",
       "      <td>2015-01-02</td>\n",
       "      <td>8.052436</td>\n",
       "      <td>2.692204</td>\n",
       "      <td>4.202973</td>\n",
       "      <td>14.007622</td>\n",
       "      <td>-13.559427</td>\n",
       "      <td>3.455238</td>\n",
       "    </tr>\n",
       "    <tr>\n",
       "      <th>2</th>\n",
       "      <td>2015-01-03</td>\n",
       "      <td>1.416353</td>\n",
       "      <td>0.828085</td>\n",
       "      <td>3.932778</td>\n",
       "      <td>14.007622</td>\n",
       "      <td>-13.559427</td>\n",
       "      <td>2.889378</td>\n",
       "    </tr>\n",
       "    <tr>\n",
       "      <th>3</th>\n",
       "      <td>2015-01-04</td>\n",
       "      <td>23.150974</td>\n",
       "      <td>2.364892</td>\n",
       "      <td>5.937545</td>\n",
       "      <td>14.007622</td>\n",
       "      <td>-13.559427</td>\n",
       "      <td>3.536397</td>\n",
       "    </tr>\n",
       "    <tr>\n",
       "      <th>4</th>\n",
       "      <td>2015-01-05</td>\n",
       "      <td>5.724569</td>\n",
       "      <td>-1.390870</td>\n",
       "      <td>6.359421</td>\n",
       "      <td>14.007622</td>\n",
       "      <td>-13.559427</td>\n",
       "      <td>2.518038</td>\n",
       "    </tr>\n",
       "  </tbody>\n",
       "</table>\n",
       "</div>"
      ],
      "text/plain": [
       "        Date     precip     tmean    trange  tmean_jul  tmean_dec  evaporation\n",
       "0 2015-01-01   6.514761  1.966477  4.000172  14.007622 -13.559427     3.221783\n",
       "1 2015-01-02   8.052436  2.692204  4.202973  14.007622 -13.559427     3.455238\n",
       "2 2015-01-03   1.416353  0.828085  3.932778  14.007622 -13.559427     2.889378\n",
       "3 2015-01-04  23.150974  2.364892  5.937545  14.007622 -13.559427     3.536397\n",
       "4 2015-01-05   5.724569 -1.390870  6.359421  14.007622 -13.559427     2.518038"
      ]
     },
     "execution_count": 206,
     "metadata": {},
     "output_type": "execute_result"
    }
   ],
   "source": [
    "s4_dfs[39].head()"
   ]
  },
  {
   "cell_type": "code",
   "execution_count": 207,
   "metadata": {},
   "outputs": [],
   "source": [
    "# Iterate over the merged dataframes for saving\n",
    "for i, df in enumerate(s4_dfs):\n",
    "    # Save the merged dataframe to a CSV file\n",
    "    csv_filename = f\"s4_{i+1}_t_p_e.csv\"  # Naming based on position in the list\n",
    "    csv_filepath = os.path.join(\"C:/Users/14037/OneDrive - University of Calgary/Documents/ENCI_570/TM_PHES_code/S4/penman\", csv_filename)\n",
    "    df.to_csv(csv_filepath, index=False)\n"
   ]
  }
 ],
 "metadata": {
  "kernelspec": {
   "display_name": "TM_PHES",
   "language": "python",
   "name": "python3"
  },
  "language_info": {
   "codemirror_mode": {
    "name": "ipython",
    "version": 3
   },
   "file_extension": ".py",
   "mimetype": "text/x-python",
   "name": "python",
   "nbconvert_exporter": "python",
   "pygments_lexer": "ipython3",
   "version": "3.12.0"
  }
 },
 "nbformat": 4,
 "nbformat_minor": 2
}
